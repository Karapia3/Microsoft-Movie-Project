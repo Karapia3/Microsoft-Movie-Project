{
  "nbformat": 4,
  "nbformat_minor": 0,
  "metadata": {
    "colab": {
      "provenance": [],
      "authorship_tag": "ABX9TyNxO1UoRe4lSRqYfSOKCL+0",
      "include_colab_link": true
    },
    "kernelspec": {
      "name": "python3",
      "display_name": "Python 3"
    },
    "language_info": {
      "name": "python"
    }
  },
  "cells": [
    {
      "cell_type": "markdown",
      "metadata": {
        "id": "view-in-github",
        "colab_type": "text"
      },
      "source": [
        "<a href=\"https://colab.research.google.com/github/Karapia3/Microsoft-Movie-Project/blob/main/Microsoft_Movie_Project.ipynb\" target=\"_parent\"><img src=\"https://colab.research.google.com/assets/colab-badge.svg\" alt=\"Open In Colab\"/></a>"
      ]
    },
    {
      "cell_type": "markdown",
      "source": [
        "**MICROSOFT MOVIE PROJECT** "
      ],
      "metadata": {
        "id": "cLXnnElI3Zu4"
      }
    },
    {
      "cell_type": "markdown",
      "source": [
        "**Business Perpective**"
      ],
      "metadata": {
        "id": "S8VK99yV4RzU"
      }
    },
    {
      "cell_type": "markdown",
      "source": [
        "Movie and film production is a lucrative industry. However is an expensive and costly affair therefore an organisation has to do etensive research before hitting the ground running. Luckily for  Microsoft movie project there is data available that I will use to analyse and come up with actionable insights for the head of Microsoft new movie studio. "
      ],
      "metadata": {
        "id": "hIKmMRXd4h7x"
      }
    },
    {
      "cell_type": "code",
      "execution_count": null,
      "metadata": {
        "id": "XUYwCkYl1xzt"
      },
      "outputs": [],
      "source": []
    }
  ]
}