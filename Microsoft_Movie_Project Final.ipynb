{
  "nbformat": 4,
  "nbformat_minor": 0,
  "metadata": {
    "colab": {
      "provenance": []
    },
    "kernelspec": {
      "name": "python3",
      "display_name": "Python 3"
    },
    "language_info": {
      "name": "python"
    }
  },
  "cells": [
    {
      "cell_type": "markdown",
      "source": [
        "**MICROSOFT MOVIE PROJECT** "
      ],
      "metadata": {
        "id": "cLXnnElI3Zu4"
      }
    },
    {
      "cell_type": "markdown",
      "source": [
        "**1.Business Perspective**"
      ],
      "metadata": {
        "id": "S8VK99yV4RzU"
      }
    },
    {
      "cell_type": "markdown",
      "source": [
        "Movie and film production is a lucrative industry. However it is an expensive and costly affair therefore an organisation has to do extensive research before hitting the ground running. Luckily for  Microsoft movie project there is data available that I will use to analyse and come up with actionable insights for the head of Microsoft new movie studio on the types of film to produce."
      ],
      "metadata": {
        "id": "hIKmMRXd4h7x"
      }
    },
    {
      "cell_type": "markdown",
      "source": [
        "**Metric of success**\n",
        "\n",
        "Being able to identify the best types of film that Microsoft should create using the avaiable data."
      ],
      "metadata": {
        "id": "HU-n6WCQEBG5"
      }
    },
    {
      "cell_type": "markdown",
      "source": [
        "TO accomplish my objectives, I will use the following datasets:\n",
        "\n",
        "1. Movie_info data dataset\n",
        "\n",
        "2. Bom.mvoie dataset\n",
        "\n",
        "3. IM.db database\n"
      ],
      "metadata": {
        "id": "rFmmIrYBEwiB"
      }
    },
    {
      "cell_type": "markdown",
      "source": [
        "My focus will be to investigate the following business aspects for the project:\n",
        "\n",
        "\n",
        "1. Major competitors in the film industry.\n",
        "\n",
        "2. Comparison between domestic and foreign market which generates more revenue\n",
        "\n",
        "3. The best genre of film to produce depending on the revenue generated from the box office"
      ],
      "metadata": {
        "id": "PblY2WduF8SX"
      }
    },
    {
      "cell_type": "markdown",
      "source": [
        "**2. Data Understanding**\n",
        "\n",
        "(a) Importing relevant libraries."
      ],
      "metadata": {
        "id": "0K1qpbMeLaqy"
      }
    },
    {
      "cell_type": "code",
      "execution_count": 192,
      "metadata": {
        "id": "XUYwCkYl1xzt"
      },
      "outputs": [],
      "source": [
        "import numpy as np\n",
        "import pandas as pd\n",
        "import seaborn as sns\n",
        "import matplotlib.pyplot as plt\n",
        "%matplotlib inline\n",
        "\n",
        "import sqlite3\n",
        "from zipfile import ZipFile"
      ]
    },
    {
      "cell_type": "markdown",
      "source": [
        "(b) Loading and reading datasets.\n",
        "\n",
        "  (i) I start with the box office dataset."
      ],
      "metadata": {
        "id": "__kA9MmfMP8e"
      }
    },
    {
      "cell_type": "code",
      "source": [
        "bmovie = pd.read_csv('bom.movie_gross.csv.gz')\n",
        "\n",
        "#data of first five rows\n",
        "bmovie.head()"
      ],
      "metadata": {
        "colab": {
          "base_uri": "https://localhost:8080/",
          "height": 206
        },
        "id": "lOzYCqjZMJqT",
        "outputId": "59c9bfab-1d91-4978-937b-bfe864c68eda"
      },
      "execution_count": 193,
      "outputs": [
        {
          "output_type": "execute_result",
          "data": {
            "text/plain": [
              "                                         title studio  domestic_gross  \\\n",
              "0                                  Toy Story 3     BV     415000000.0   \n",
              "1                   Alice in Wonderland (2010)     BV     334200000.0   \n",
              "2  Harry Potter and the Deathly Hallows Part 1     WB     296000000.0   \n",
              "3                                    Inception     WB     292600000.0   \n",
              "4                          Shrek Forever After   P/DW     238700000.0   \n",
              "\n",
              "  foreign_gross  year  \n",
              "0     652000000  2010  \n",
              "1     691300000  2010  \n",
              "2     664300000  2010  \n",
              "3     535700000  2010  \n",
              "4     513900000  2010  "
            ],
            "text/html": [
              "\n",
              "  <div id=\"df-164d9ab2-0d14-4140-ac30-9aafa3b508bc\">\n",
              "    <div class=\"colab-df-container\">\n",
              "      <div>\n",
              "<style scoped>\n",
              "    .dataframe tbody tr th:only-of-type {\n",
              "        vertical-align: middle;\n",
              "    }\n",
              "\n",
              "    .dataframe tbody tr th {\n",
              "        vertical-align: top;\n",
              "    }\n",
              "\n",
              "    .dataframe thead th {\n",
              "        text-align: right;\n",
              "    }\n",
              "</style>\n",
              "<table border=\"1\" class=\"dataframe\">\n",
              "  <thead>\n",
              "    <tr style=\"text-align: right;\">\n",
              "      <th></th>\n",
              "      <th>title</th>\n",
              "      <th>studio</th>\n",
              "      <th>domestic_gross</th>\n",
              "      <th>foreign_gross</th>\n",
              "      <th>year</th>\n",
              "    </tr>\n",
              "  </thead>\n",
              "  <tbody>\n",
              "    <tr>\n",
              "      <th>0</th>\n",
              "      <td>Toy Story 3</td>\n",
              "      <td>BV</td>\n",
              "      <td>415000000.0</td>\n",
              "      <td>652000000</td>\n",
              "      <td>2010</td>\n",
              "    </tr>\n",
              "    <tr>\n",
              "      <th>1</th>\n",
              "      <td>Alice in Wonderland (2010)</td>\n",
              "      <td>BV</td>\n",
              "      <td>334200000.0</td>\n",
              "      <td>691300000</td>\n",
              "      <td>2010</td>\n",
              "    </tr>\n",
              "    <tr>\n",
              "      <th>2</th>\n",
              "      <td>Harry Potter and the Deathly Hallows Part 1</td>\n",
              "      <td>WB</td>\n",
              "      <td>296000000.0</td>\n",
              "      <td>664300000</td>\n",
              "      <td>2010</td>\n",
              "    </tr>\n",
              "    <tr>\n",
              "      <th>3</th>\n",
              "      <td>Inception</td>\n",
              "      <td>WB</td>\n",
              "      <td>292600000.0</td>\n",
              "      <td>535700000</td>\n",
              "      <td>2010</td>\n",
              "    </tr>\n",
              "    <tr>\n",
              "      <th>4</th>\n",
              "      <td>Shrek Forever After</td>\n",
              "      <td>P/DW</td>\n",
              "      <td>238700000.0</td>\n",
              "      <td>513900000</td>\n",
              "      <td>2010</td>\n",
              "    </tr>\n",
              "  </tbody>\n",
              "</table>\n",
              "</div>\n",
              "      <button class=\"colab-df-convert\" onclick=\"convertToInteractive('df-164d9ab2-0d14-4140-ac30-9aafa3b508bc')\"\n",
              "              title=\"Convert this dataframe to an interactive table.\"\n",
              "              style=\"display:none;\">\n",
              "        \n",
              "  <svg xmlns=\"http://www.w3.org/2000/svg\" height=\"24px\"viewBox=\"0 0 24 24\"\n",
              "       width=\"24px\">\n",
              "    <path d=\"M0 0h24v24H0V0z\" fill=\"none\"/>\n",
              "    <path d=\"M18.56 5.44l.94 2.06.94-2.06 2.06-.94-2.06-.94-.94-2.06-.94 2.06-2.06.94zm-11 1L8.5 8.5l.94-2.06 2.06-.94-2.06-.94L8.5 2.5l-.94 2.06-2.06.94zm10 10l.94 2.06.94-2.06 2.06-.94-2.06-.94-.94-2.06-.94 2.06-2.06.94z\"/><path d=\"M17.41 7.96l-1.37-1.37c-.4-.4-.92-.59-1.43-.59-.52 0-1.04.2-1.43.59L10.3 9.45l-7.72 7.72c-.78.78-.78 2.05 0 2.83L4 21.41c.39.39.9.59 1.41.59.51 0 1.02-.2 1.41-.59l7.78-7.78 2.81-2.81c.8-.78.8-2.07 0-2.86zM5.41 20L4 18.59l7.72-7.72 1.47 1.35L5.41 20z\"/>\n",
              "  </svg>\n",
              "      </button>\n",
              "      \n",
              "  <style>\n",
              "    .colab-df-container {\n",
              "      display:flex;\n",
              "      flex-wrap:wrap;\n",
              "      gap: 12px;\n",
              "    }\n",
              "\n",
              "    .colab-df-convert {\n",
              "      background-color: #E8F0FE;\n",
              "      border: none;\n",
              "      border-radius: 50%;\n",
              "      cursor: pointer;\n",
              "      display: none;\n",
              "      fill: #1967D2;\n",
              "      height: 32px;\n",
              "      padding: 0 0 0 0;\n",
              "      width: 32px;\n",
              "    }\n",
              "\n",
              "    .colab-df-convert:hover {\n",
              "      background-color: #E2EBFA;\n",
              "      box-shadow: 0px 1px 2px rgba(60, 64, 67, 0.3), 0px 1px 3px 1px rgba(60, 64, 67, 0.15);\n",
              "      fill: #174EA6;\n",
              "    }\n",
              "\n",
              "    [theme=dark] .colab-df-convert {\n",
              "      background-color: #3B4455;\n",
              "      fill: #D2E3FC;\n",
              "    }\n",
              "\n",
              "    [theme=dark] .colab-df-convert:hover {\n",
              "      background-color: #434B5C;\n",
              "      box-shadow: 0px 1px 3px 1px rgba(0, 0, 0, 0.15);\n",
              "      filter: drop-shadow(0px 1px 2px rgba(0, 0, 0, 0.3));\n",
              "      fill: #FFFFFF;\n",
              "    }\n",
              "  </style>\n",
              "\n",
              "      <script>\n",
              "        const buttonEl =\n",
              "          document.querySelector('#df-164d9ab2-0d14-4140-ac30-9aafa3b508bc button.colab-df-convert');\n",
              "        buttonEl.style.display =\n",
              "          google.colab.kernel.accessAllowed ? 'block' : 'none';\n",
              "\n",
              "        async function convertToInteractive(key) {\n",
              "          const element = document.querySelector('#df-164d9ab2-0d14-4140-ac30-9aafa3b508bc');\n",
              "          const dataTable =\n",
              "            await google.colab.kernel.invokeFunction('convertToInteractive',\n",
              "                                                     [key], {});\n",
              "          if (!dataTable) return;\n",
              "\n",
              "          const docLinkHtml = 'Like what you see? Visit the ' +\n",
              "            '<a target=\"_blank\" href=https://colab.research.google.com/notebooks/data_table.ipynb>data table notebook</a>'\n",
              "            + ' to learn more about interactive tables.';\n",
              "          element.innerHTML = '';\n",
              "          dataTable['output_type'] = 'display_data';\n",
              "          await google.colab.output.renderOutput(dataTable, element);\n",
              "          const docLink = document.createElement('div');\n",
              "          docLink.innerHTML = docLinkHtml;\n",
              "          element.appendChild(docLink);\n",
              "        }\n",
              "      </script>\n",
              "    </div>\n",
              "  </div>\n",
              "  "
            ]
          },
          "metadata": {},
          "execution_count": 193
        }
      ]
    },
    {
      "cell_type": "code",
      "source": [
        "#data of the last five rows\n",
        "bmovie.tail()"
      ],
      "metadata": {
        "colab": {
          "base_uri": "https://localhost:8080/",
          "height": 206
        },
        "id": "0EEuvfI4g1oT",
        "outputId": "0b4e9d04-a501-45db-8f56-bf33e6decff7"
      },
      "execution_count": 194,
      "outputs": [
        {
          "output_type": "execute_result",
          "data": {
            "text/plain": [
              "                            title      studio  domestic_gross foreign_gross  \\\n",
              "3382                    The Quake       Magn.          6200.0           NaN   \n",
              "3383  Edward II (2018 re-release)          FM          4800.0           NaN   \n",
              "3384                     El Pacto        Sony          2500.0           NaN   \n",
              "3385                     The Swan  Synergetic          2400.0           NaN   \n",
              "3386            An Actor Prepares       Grav.          1700.0           NaN   \n",
              "\n",
              "      year  \n",
              "3382  2018  \n",
              "3383  2018  \n",
              "3384  2018  \n",
              "3385  2018  \n",
              "3386  2018  "
            ],
            "text/html": [
              "\n",
              "  <div id=\"df-8dc28a24-92ad-4381-8afe-9cb896f232be\">\n",
              "    <div class=\"colab-df-container\">\n",
              "      <div>\n",
              "<style scoped>\n",
              "    .dataframe tbody tr th:only-of-type {\n",
              "        vertical-align: middle;\n",
              "    }\n",
              "\n",
              "    .dataframe tbody tr th {\n",
              "        vertical-align: top;\n",
              "    }\n",
              "\n",
              "    .dataframe thead th {\n",
              "        text-align: right;\n",
              "    }\n",
              "</style>\n",
              "<table border=\"1\" class=\"dataframe\">\n",
              "  <thead>\n",
              "    <tr style=\"text-align: right;\">\n",
              "      <th></th>\n",
              "      <th>title</th>\n",
              "      <th>studio</th>\n",
              "      <th>domestic_gross</th>\n",
              "      <th>foreign_gross</th>\n",
              "      <th>year</th>\n",
              "    </tr>\n",
              "  </thead>\n",
              "  <tbody>\n",
              "    <tr>\n",
              "      <th>3382</th>\n",
              "      <td>The Quake</td>\n",
              "      <td>Magn.</td>\n",
              "      <td>6200.0</td>\n",
              "      <td>NaN</td>\n",
              "      <td>2018</td>\n",
              "    </tr>\n",
              "    <tr>\n",
              "      <th>3383</th>\n",
              "      <td>Edward II (2018 re-release)</td>\n",
              "      <td>FM</td>\n",
              "      <td>4800.0</td>\n",
              "      <td>NaN</td>\n",
              "      <td>2018</td>\n",
              "    </tr>\n",
              "    <tr>\n",
              "      <th>3384</th>\n",
              "      <td>El Pacto</td>\n",
              "      <td>Sony</td>\n",
              "      <td>2500.0</td>\n",
              "      <td>NaN</td>\n",
              "      <td>2018</td>\n",
              "    </tr>\n",
              "    <tr>\n",
              "      <th>3385</th>\n",
              "      <td>The Swan</td>\n",
              "      <td>Synergetic</td>\n",
              "      <td>2400.0</td>\n",
              "      <td>NaN</td>\n",
              "      <td>2018</td>\n",
              "    </tr>\n",
              "    <tr>\n",
              "      <th>3386</th>\n",
              "      <td>An Actor Prepares</td>\n",
              "      <td>Grav.</td>\n",
              "      <td>1700.0</td>\n",
              "      <td>NaN</td>\n",
              "      <td>2018</td>\n",
              "    </tr>\n",
              "  </tbody>\n",
              "</table>\n",
              "</div>\n",
              "      <button class=\"colab-df-convert\" onclick=\"convertToInteractive('df-8dc28a24-92ad-4381-8afe-9cb896f232be')\"\n",
              "              title=\"Convert this dataframe to an interactive table.\"\n",
              "              style=\"display:none;\">\n",
              "        \n",
              "  <svg xmlns=\"http://www.w3.org/2000/svg\" height=\"24px\"viewBox=\"0 0 24 24\"\n",
              "       width=\"24px\">\n",
              "    <path d=\"M0 0h24v24H0V0z\" fill=\"none\"/>\n",
              "    <path d=\"M18.56 5.44l.94 2.06.94-2.06 2.06-.94-2.06-.94-.94-2.06-.94 2.06-2.06.94zm-11 1L8.5 8.5l.94-2.06 2.06-.94-2.06-.94L8.5 2.5l-.94 2.06-2.06.94zm10 10l.94 2.06.94-2.06 2.06-.94-2.06-.94-.94-2.06-.94 2.06-2.06.94z\"/><path d=\"M17.41 7.96l-1.37-1.37c-.4-.4-.92-.59-1.43-.59-.52 0-1.04.2-1.43.59L10.3 9.45l-7.72 7.72c-.78.78-.78 2.05 0 2.83L4 21.41c.39.39.9.59 1.41.59.51 0 1.02-.2 1.41-.59l7.78-7.78 2.81-2.81c.8-.78.8-2.07 0-2.86zM5.41 20L4 18.59l7.72-7.72 1.47 1.35L5.41 20z\"/>\n",
              "  </svg>\n",
              "      </button>\n",
              "      \n",
              "  <style>\n",
              "    .colab-df-container {\n",
              "      display:flex;\n",
              "      flex-wrap:wrap;\n",
              "      gap: 12px;\n",
              "    }\n",
              "\n",
              "    .colab-df-convert {\n",
              "      background-color: #E8F0FE;\n",
              "      border: none;\n",
              "      border-radius: 50%;\n",
              "      cursor: pointer;\n",
              "      display: none;\n",
              "      fill: #1967D2;\n",
              "      height: 32px;\n",
              "      padding: 0 0 0 0;\n",
              "      width: 32px;\n",
              "    }\n",
              "\n",
              "    .colab-df-convert:hover {\n",
              "      background-color: #E2EBFA;\n",
              "      box-shadow: 0px 1px 2px rgba(60, 64, 67, 0.3), 0px 1px 3px 1px rgba(60, 64, 67, 0.15);\n",
              "      fill: #174EA6;\n",
              "    }\n",
              "\n",
              "    [theme=dark] .colab-df-convert {\n",
              "      background-color: #3B4455;\n",
              "      fill: #D2E3FC;\n",
              "    }\n",
              "\n",
              "    [theme=dark] .colab-df-convert:hover {\n",
              "      background-color: #434B5C;\n",
              "      box-shadow: 0px 1px 3px 1px rgba(0, 0, 0, 0.15);\n",
              "      filter: drop-shadow(0px 1px 2px rgba(0, 0, 0, 0.3));\n",
              "      fill: #FFFFFF;\n",
              "    }\n",
              "  </style>\n",
              "\n",
              "      <script>\n",
              "        const buttonEl =\n",
              "          document.querySelector('#df-8dc28a24-92ad-4381-8afe-9cb896f232be button.colab-df-convert');\n",
              "        buttonEl.style.display =\n",
              "          google.colab.kernel.accessAllowed ? 'block' : 'none';\n",
              "\n",
              "        async function convertToInteractive(key) {\n",
              "          const element = document.querySelector('#df-8dc28a24-92ad-4381-8afe-9cb896f232be');\n",
              "          const dataTable =\n",
              "            await google.colab.kernel.invokeFunction('convertToInteractive',\n",
              "                                                     [key], {});\n",
              "          if (!dataTable) return;\n",
              "\n",
              "          const docLinkHtml = 'Like what you see? Visit the ' +\n",
              "            '<a target=\"_blank\" href=https://colab.research.google.com/notebooks/data_table.ipynb>data table notebook</a>'\n",
              "            + ' to learn more about interactive tables.';\n",
              "          element.innerHTML = '';\n",
              "          dataTable['output_type'] = 'display_data';\n",
              "          await google.colab.output.renderOutput(dataTable, element);\n",
              "          const docLink = document.createElement('div');\n",
              "          docLink.innerHTML = docLinkHtml;\n",
              "          element.appendChild(docLink);\n",
              "        }\n",
              "      </script>\n",
              "    </div>\n",
              "  </div>\n",
              "  "
            ]
          },
          "metadata": {},
          "execution_count": 194
        }
      ]
    },
    {
      "cell_type": "markdown",
      "source": [
        "*observation:*The dataset is uniform from top to bottom however data on foreign_gross appears to be missing values at the end."
      ],
      "metadata": {
        "id": "vKGDdsPEhQbr"
      }
    },
    {
      "cell_type": "code",
      "source": [
        "#Determine the number of records in our dataset\n",
        "\n",
        "print(bmovie.shape)"
      ],
      "metadata": {
        "colab": {
          "base_uri": "https://localhost:8080/"
        },
        "id": "SBnG_Wr4N0I3",
        "outputId": "ffccc86d-f76e-4486-824a-c2460dbbaaac"
      },
      "execution_count": 232,
      "outputs": [
        {
          "output_type": "stream",
          "name": "stdout",
          "text": [
            "(3387, 5)\n"
          ]
        }
      ]
    },
    {
      "cell_type": "markdown",
      "source": [
        "*observation:* The dataset has 3387 records and 5 variables\n",
        "(3387 rows, 5 columns)"
      ],
      "metadata": {
        "id": "ULsKdwC_gHBU"
      }
    },
    {
      "cell_type": "code",
      "source": [
        "# Checking datatype and missing values\n",
        "bmovie.info()"
      ],
      "metadata": {
        "colab": {
          "base_uri": "https://localhost:8080/"
        },
        "id": "YpZiAMwLfj58",
        "outputId": "d3902c9c-cb1e-4e7f-834f-a6d5fe9b3c43"
      },
      "execution_count": 233,
      "outputs": [
        {
          "output_type": "stream",
          "name": "stdout",
          "text": [
            "<class 'pandas.core.frame.DataFrame'>\n",
            "RangeIndex: 3387 entries, 0 to 3386\n",
            "Data columns (total 5 columns):\n",
            " #   Column          Non-Null Count  Dtype  \n",
            "---  ------          --------------  -----  \n",
            " 0   title           3387 non-null   object \n",
            " 1   studio          3382 non-null   object \n",
            " 2   domestic_gross  3359 non-null   float64\n",
            " 3   foreign_gross   2037 non-null   object \n",
            " 4   year            3387 non-null   int64  \n",
            "dtypes: float64(1), int64(1), object(3)\n",
            "memory usage: 132.4+ KB\n"
          ]
        }
      ]
    },
    {
      "cell_type": "markdown",
      "source": [
        "*observation* The dataset has a float, integers and string data type. Foreign_gross has a number of missing values."
      ],
      "metadata": {
        "id": "JW1it7SNiYK9"
      }
    },
    {
      "cell_type": "code",
      "source": [
        "# descriptive statistical data\n",
        "\n",
        "bmovie.describe()"
      ],
      "metadata": {
        "colab": {
          "base_uri": "https://localhost:8080/",
          "height": 301
        },
        "id": "kSG_y3Wah9U2",
        "outputId": "70a5bdef-2d19-4edf-9647-7c859b10d602"
      },
      "execution_count": 234,
      "outputs": [
        {
          "output_type": "execute_result",
          "data": {
            "text/plain": [
              "       domestic_gross         year\n",
              "count    3.359000e+03  3387.000000\n",
              "mean     2.874585e+07  2013.958075\n",
              "std      6.698250e+07     2.478141\n",
              "min      1.000000e+02  2010.000000\n",
              "25%      1.200000e+05  2012.000000\n",
              "50%      1.400000e+06  2014.000000\n",
              "75%      2.790000e+07  2016.000000\n",
              "max      9.367000e+08  2018.000000"
            ],
            "text/html": [
              "\n",
              "  <div id=\"df-7166682a-f0e9-4d6b-8180-2877099899f4\">\n",
              "    <div class=\"colab-df-container\">\n",
              "      <div>\n",
              "<style scoped>\n",
              "    .dataframe tbody tr th:only-of-type {\n",
              "        vertical-align: middle;\n",
              "    }\n",
              "\n",
              "    .dataframe tbody tr th {\n",
              "        vertical-align: top;\n",
              "    }\n",
              "\n",
              "    .dataframe thead th {\n",
              "        text-align: right;\n",
              "    }\n",
              "</style>\n",
              "<table border=\"1\" class=\"dataframe\">\n",
              "  <thead>\n",
              "    <tr style=\"text-align: right;\">\n",
              "      <th></th>\n",
              "      <th>domestic_gross</th>\n",
              "      <th>year</th>\n",
              "    </tr>\n",
              "  </thead>\n",
              "  <tbody>\n",
              "    <tr>\n",
              "      <th>count</th>\n",
              "      <td>3.359000e+03</td>\n",
              "      <td>3387.000000</td>\n",
              "    </tr>\n",
              "    <tr>\n",
              "      <th>mean</th>\n",
              "      <td>2.874585e+07</td>\n",
              "      <td>2013.958075</td>\n",
              "    </tr>\n",
              "    <tr>\n",
              "      <th>std</th>\n",
              "      <td>6.698250e+07</td>\n",
              "      <td>2.478141</td>\n",
              "    </tr>\n",
              "    <tr>\n",
              "      <th>min</th>\n",
              "      <td>1.000000e+02</td>\n",
              "      <td>2010.000000</td>\n",
              "    </tr>\n",
              "    <tr>\n",
              "      <th>25%</th>\n",
              "      <td>1.200000e+05</td>\n",
              "      <td>2012.000000</td>\n",
              "    </tr>\n",
              "    <tr>\n",
              "      <th>50%</th>\n",
              "      <td>1.400000e+06</td>\n",
              "      <td>2014.000000</td>\n",
              "    </tr>\n",
              "    <tr>\n",
              "      <th>75%</th>\n",
              "      <td>2.790000e+07</td>\n",
              "      <td>2016.000000</td>\n",
              "    </tr>\n",
              "    <tr>\n",
              "      <th>max</th>\n",
              "      <td>9.367000e+08</td>\n",
              "      <td>2018.000000</td>\n",
              "    </tr>\n",
              "  </tbody>\n",
              "</table>\n",
              "</div>\n",
              "      <button class=\"colab-df-convert\" onclick=\"convertToInteractive('df-7166682a-f0e9-4d6b-8180-2877099899f4')\"\n",
              "              title=\"Convert this dataframe to an interactive table.\"\n",
              "              style=\"display:none;\">\n",
              "        \n",
              "  <svg xmlns=\"http://www.w3.org/2000/svg\" height=\"24px\"viewBox=\"0 0 24 24\"\n",
              "       width=\"24px\">\n",
              "    <path d=\"M0 0h24v24H0V0z\" fill=\"none\"/>\n",
              "    <path d=\"M18.56 5.44l.94 2.06.94-2.06 2.06-.94-2.06-.94-.94-2.06-.94 2.06-2.06.94zm-11 1L8.5 8.5l.94-2.06 2.06-.94-2.06-.94L8.5 2.5l-.94 2.06-2.06.94zm10 10l.94 2.06.94-2.06 2.06-.94-2.06-.94-.94-2.06-.94 2.06-2.06.94z\"/><path d=\"M17.41 7.96l-1.37-1.37c-.4-.4-.92-.59-1.43-.59-.52 0-1.04.2-1.43.59L10.3 9.45l-7.72 7.72c-.78.78-.78 2.05 0 2.83L4 21.41c.39.39.9.59 1.41.59.51 0 1.02-.2 1.41-.59l7.78-7.78 2.81-2.81c.8-.78.8-2.07 0-2.86zM5.41 20L4 18.59l7.72-7.72 1.47 1.35L5.41 20z\"/>\n",
              "  </svg>\n",
              "      </button>\n",
              "      \n",
              "  <style>\n",
              "    .colab-df-container {\n",
              "      display:flex;\n",
              "      flex-wrap:wrap;\n",
              "      gap: 12px;\n",
              "    }\n",
              "\n",
              "    .colab-df-convert {\n",
              "      background-color: #E8F0FE;\n",
              "      border: none;\n",
              "      border-radius: 50%;\n",
              "      cursor: pointer;\n",
              "      display: none;\n",
              "      fill: #1967D2;\n",
              "      height: 32px;\n",
              "      padding: 0 0 0 0;\n",
              "      width: 32px;\n",
              "    }\n",
              "\n",
              "    .colab-df-convert:hover {\n",
              "      background-color: #E2EBFA;\n",
              "      box-shadow: 0px 1px 2px rgba(60, 64, 67, 0.3), 0px 1px 3px 1px rgba(60, 64, 67, 0.15);\n",
              "      fill: #174EA6;\n",
              "    }\n",
              "\n",
              "    [theme=dark] .colab-df-convert {\n",
              "      background-color: #3B4455;\n",
              "      fill: #D2E3FC;\n",
              "    }\n",
              "\n",
              "    [theme=dark] .colab-df-convert:hover {\n",
              "      background-color: #434B5C;\n",
              "      box-shadow: 0px 1px 3px 1px rgba(0, 0, 0, 0.15);\n",
              "      filter: drop-shadow(0px 1px 2px rgba(0, 0, 0, 0.3));\n",
              "      fill: #FFFFFF;\n",
              "    }\n",
              "  </style>\n",
              "\n",
              "      <script>\n",
              "        const buttonEl =\n",
              "          document.querySelector('#df-7166682a-f0e9-4d6b-8180-2877099899f4 button.colab-df-convert');\n",
              "        buttonEl.style.display =\n",
              "          google.colab.kernel.accessAllowed ? 'block' : 'none';\n",
              "\n",
              "        async function convertToInteractive(key) {\n",
              "          const element = document.querySelector('#df-7166682a-f0e9-4d6b-8180-2877099899f4');\n",
              "          const dataTable =\n",
              "            await google.colab.kernel.invokeFunction('convertToInteractive',\n",
              "                                                     [key], {});\n",
              "          if (!dataTable) return;\n",
              "\n",
              "          const docLinkHtml = 'Like what you see? Visit the ' +\n",
              "            '<a target=\"_blank\" href=https://colab.research.google.com/notebooks/data_table.ipynb>data table notebook</a>'\n",
              "            + ' to learn more about interactive tables.';\n",
              "          element.innerHTML = '';\n",
              "          dataTable['output_type'] = 'display_data';\n",
              "          await google.colab.output.renderOutput(dataTable, element);\n",
              "          const docLink = document.createElement('div');\n",
              "          docLink.innerHTML = docLinkHtml;\n",
              "          element.appendChild(docLink);\n",
              "        }\n",
              "      </script>\n",
              "    </div>\n",
              "  </div>\n",
              "  "
            ]
          },
          "metadata": {},
          "execution_count": 234
        }
      ]
    },
    {
      "cell_type": "markdown",
      "source": [
        "(ii). IM.DB DATABASE"
      ],
      "metadata": {
        "id": "V8F5rsPuyBDu"
      }
    },
    {
      "cell_type": "code",
      "source": [
        "# Opening database file from IM. database\n",
        "imdb = ZipFile('im.db.zip')\n",
        "imdb.extract('im.db')\n",
        "imdb.close()"
      ],
      "metadata": {
        "id": "30nSXo1FygKZ"
      },
      "execution_count": 235,
      "outputs": []
    },
    {
      "cell_type": "markdown",
      "source": [
        "I create a connection to the database "
      ],
      "metadata": {
        "id": "GUkSd-s22moD"
      }
    },
    {
      "cell_type": "code",
      "source": [
        "conn = sqlite3.connect('im.db')\n",
        "cur  = conn.cursor()\n",
        "\n",
        "#To check the number of tables in the database set.\n",
        "cur.execute(\"\"\"\n",
        "            SELECT\n",
        "            name FROM sqlite_master WHERE type = 'table'\"\"\")\n",
        "table = cur.fetchall()\n",
        "table"
      ],
      "metadata": {
        "colab": {
          "base_uri": "https://localhost:8080/"
        },
        "id": "Ge2ZrPN_0W3d",
        "outputId": "b603659b-920d-485d-892f-f04ba00dd4be"
      },
      "execution_count": 236,
      "outputs": [
        {
          "output_type": "execute_result",
          "data": {
            "text/plain": [
              "[('movie_basics',),\n",
              " ('directors',),\n",
              " ('known_for',),\n",
              " ('movie_akas',),\n",
              " ('movie_ratings',),\n",
              " ('persons',),\n",
              " ('principals',),\n",
              " ('writers',)]"
            ]
          },
          "metadata": {},
          "execution_count": 236
        }
      ]
    },
    {
      "cell_type": "code",
      "source": [
        "# Create a table using pandas dataframe to view the database of the movie BASIC.\n",
        "\n",
        "basic_table = pd.read_sql(\"\"\" \n",
        "            SELECT * FROM movie_basics;\"\"\", conn)\n",
        "basic_table.head()"
      ],
      "metadata": {
        "colab": {
          "base_uri": "https://localhost:8080/",
          "height": 206
        },
        "id": "xOI9ODvFInBU",
        "outputId": "56b1777b-1440-42fa-de2e-6425bea07646"
      },
      "execution_count": 237,
      "outputs": [
        {
          "output_type": "execute_result",
          "data": {
            "text/plain": [
              "    movie_id                    primary_title              original_title  \\\n",
              "0  tt0063540                        Sunghursh                   Sunghursh   \n",
              "1  tt0066787  One Day Before the Rainy Season             Ashad Ka Ek Din   \n",
              "2  tt0069049       The Other Side of the Wind  The Other Side of the Wind   \n",
              "3  tt0069204                  Sabse Bada Sukh             Sabse Bada Sukh   \n",
              "4  tt0100275         The Wandering Soap Opera       La Telenovela Errante   \n",
              "\n",
              "   start_year  runtime_minutes                genres  \n",
              "0        2013            175.0    Action,Crime,Drama  \n",
              "1        2019            114.0       Biography,Drama  \n",
              "2        2018            122.0                 Drama  \n",
              "3        2018              NaN          Comedy,Drama  \n",
              "4        2017             80.0  Comedy,Drama,Fantasy  "
            ],
            "text/html": [
              "\n",
              "  <div id=\"df-ebe2026e-24fb-43be-bac3-dcf891c1c8ba\">\n",
              "    <div class=\"colab-df-container\">\n",
              "      <div>\n",
              "<style scoped>\n",
              "    .dataframe tbody tr th:only-of-type {\n",
              "        vertical-align: middle;\n",
              "    }\n",
              "\n",
              "    .dataframe tbody tr th {\n",
              "        vertical-align: top;\n",
              "    }\n",
              "\n",
              "    .dataframe thead th {\n",
              "        text-align: right;\n",
              "    }\n",
              "</style>\n",
              "<table border=\"1\" class=\"dataframe\">\n",
              "  <thead>\n",
              "    <tr style=\"text-align: right;\">\n",
              "      <th></th>\n",
              "      <th>movie_id</th>\n",
              "      <th>primary_title</th>\n",
              "      <th>original_title</th>\n",
              "      <th>start_year</th>\n",
              "      <th>runtime_minutes</th>\n",
              "      <th>genres</th>\n",
              "    </tr>\n",
              "  </thead>\n",
              "  <tbody>\n",
              "    <tr>\n",
              "      <th>0</th>\n",
              "      <td>tt0063540</td>\n",
              "      <td>Sunghursh</td>\n",
              "      <td>Sunghursh</td>\n",
              "      <td>2013</td>\n",
              "      <td>175.0</td>\n",
              "      <td>Action,Crime,Drama</td>\n",
              "    </tr>\n",
              "    <tr>\n",
              "      <th>1</th>\n",
              "      <td>tt0066787</td>\n",
              "      <td>One Day Before the Rainy Season</td>\n",
              "      <td>Ashad Ka Ek Din</td>\n",
              "      <td>2019</td>\n",
              "      <td>114.0</td>\n",
              "      <td>Biography,Drama</td>\n",
              "    </tr>\n",
              "    <tr>\n",
              "      <th>2</th>\n",
              "      <td>tt0069049</td>\n",
              "      <td>The Other Side of the Wind</td>\n",
              "      <td>The Other Side of the Wind</td>\n",
              "      <td>2018</td>\n",
              "      <td>122.0</td>\n",
              "      <td>Drama</td>\n",
              "    </tr>\n",
              "    <tr>\n",
              "      <th>3</th>\n",
              "      <td>tt0069204</td>\n",
              "      <td>Sabse Bada Sukh</td>\n",
              "      <td>Sabse Bada Sukh</td>\n",
              "      <td>2018</td>\n",
              "      <td>NaN</td>\n",
              "      <td>Comedy,Drama</td>\n",
              "    </tr>\n",
              "    <tr>\n",
              "      <th>4</th>\n",
              "      <td>tt0100275</td>\n",
              "      <td>The Wandering Soap Opera</td>\n",
              "      <td>La Telenovela Errante</td>\n",
              "      <td>2017</td>\n",
              "      <td>80.0</td>\n",
              "      <td>Comedy,Drama,Fantasy</td>\n",
              "    </tr>\n",
              "  </tbody>\n",
              "</table>\n",
              "</div>\n",
              "      <button class=\"colab-df-convert\" onclick=\"convertToInteractive('df-ebe2026e-24fb-43be-bac3-dcf891c1c8ba')\"\n",
              "              title=\"Convert this dataframe to an interactive table.\"\n",
              "              style=\"display:none;\">\n",
              "        \n",
              "  <svg xmlns=\"http://www.w3.org/2000/svg\" height=\"24px\"viewBox=\"0 0 24 24\"\n",
              "       width=\"24px\">\n",
              "    <path d=\"M0 0h24v24H0V0z\" fill=\"none\"/>\n",
              "    <path d=\"M18.56 5.44l.94 2.06.94-2.06 2.06-.94-2.06-.94-.94-2.06-.94 2.06-2.06.94zm-11 1L8.5 8.5l.94-2.06 2.06-.94-2.06-.94L8.5 2.5l-.94 2.06-2.06.94zm10 10l.94 2.06.94-2.06 2.06-.94-2.06-.94-.94-2.06-.94 2.06-2.06.94z\"/><path d=\"M17.41 7.96l-1.37-1.37c-.4-.4-.92-.59-1.43-.59-.52 0-1.04.2-1.43.59L10.3 9.45l-7.72 7.72c-.78.78-.78 2.05 0 2.83L4 21.41c.39.39.9.59 1.41.59.51 0 1.02-.2 1.41-.59l7.78-7.78 2.81-2.81c.8-.78.8-2.07 0-2.86zM5.41 20L4 18.59l7.72-7.72 1.47 1.35L5.41 20z\"/>\n",
              "  </svg>\n",
              "      </button>\n",
              "      \n",
              "  <style>\n",
              "    .colab-df-container {\n",
              "      display:flex;\n",
              "      flex-wrap:wrap;\n",
              "      gap: 12px;\n",
              "    }\n",
              "\n",
              "    .colab-df-convert {\n",
              "      background-color: #E8F0FE;\n",
              "      border: none;\n",
              "      border-radius: 50%;\n",
              "      cursor: pointer;\n",
              "      display: none;\n",
              "      fill: #1967D2;\n",
              "      height: 32px;\n",
              "      padding: 0 0 0 0;\n",
              "      width: 32px;\n",
              "    }\n",
              "\n",
              "    .colab-df-convert:hover {\n",
              "      background-color: #E2EBFA;\n",
              "      box-shadow: 0px 1px 2px rgba(60, 64, 67, 0.3), 0px 1px 3px 1px rgba(60, 64, 67, 0.15);\n",
              "      fill: #174EA6;\n",
              "    }\n",
              "\n",
              "    [theme=dark] .colab-df-convert {\n",
              "      background-color: #3B4455;\n",
              "      fill: #D2E3FC;\n",
              "    }\n",
              "\n",
              "    [theme=dark] .colab-df-convert:hover {\n",
              "      background-color: #434B5C;\n",
              "      box-shadow: 0px 1px 3px 1px rgba(0, 0, 0, 0.15);\n",
              "      filter: drop-shadow(0px 1px 2px rgba(0, 0, 0, 0.3));\n",
              "      fill: #FFFFFF;\n",
              "    }\n",
              "  </style>\n",
              "\n",
              "      <script>\n",
              "        const buttonEl =\n",
              "          document.querySelector('#df-ebe2026e-24fb-43be-bac3-dcf891c1c8ba button.colab-df-convert');\n",
              "        buttonEl.style.display =\n",
              "          google.colab.kernel.accessAllowed ? 'block' : 'none';\n",
              "\n",
              "        async function convertToInteractive(key) {\n",
              "          const element = document.querySelector('#df-ebe2026e-24fb-43be-bac3-dcf891c1c8ba');\n",
              "          const dataTable =\n",
              "            await google.colab.kernel.invokeFunction('convertToInteractive',\n",
              "                                                     [key], {});\n",
              "          if (!dataTable) return;\n",
              "\n",
              "          const docLinkHtml = 'Like what you see? Visit the ' +\n",
              "            '<a target=\"_blank\" href=https://colab.research.google.com/notebooks/data_table.ipynb>data table notebook</a>'\n",
              "            + ' to learn more about interactive tables.';\n",
              "          element.innerHTML = '';\n",
              "          dataTable['output_type'] = 'display_data';\n",
              "          await google.colab.output.renderOutput(dataTable, element);\n",
              "          const docLink = document.createElement('div');\n",
              "          docLink.innerHTML = docLinkHtml;\n",
              "          element.appendChild(docLink);\n",
              "        }\n",
              "      </script>\n",
              "    </div>\n",
              "  </div>\n",
              "  "
            ]
          },
          "metadata": {},
          "execution_count": 237
        }
      ]
    },
    {
      "cell_type": "code",
      "source": [
        "# Checking datatype\n",
        "basic_table.info()"
      ],
      "metadata": {
        "colab": {
          "base_uri": "https://localhost:8080/"
        },
        "id": "rcFDHBnxNmY1",
        "outputId": "17c07071-e4b4-4f2e-a534-e9e126519753"
      },
      "execution_count": 238,
      "outputs": [
        {
          "output_type": "stream",
          "name": "stdout",
          "text": [
            "<class 'pandas.core.frame.DataFrame'>\n",
            "RangeIndex: 146144 entries, 0 to 146143\n",
            "Data columns (total 6 columns):\n",
            " #   Column           Non-Null Count   Dtype  \n",
            "---  ------           --------------   -----  \n",
            " 0   movie_id         146144 non-null  object \n",
            " 1   primary_title    146144 non-null  object \n",
            " 2   original_title   146123 non-null  object \n",
            " 3   start_year       146144 non-null  int64  \n",
            " 4   runtime_minutes  114405 non-null  float64\n",
            " 5   genres           140736 non-null  object \n",
            "dtypes: float64(1), int64(1), object(4)\n",
            "memory usage: 6.7+ MB\n"
          ]
        }
      ]
    },
    {
      "cell_type": "markdown",
      "source": [
        "*Observation*: database has float, integer and string datatype."
      ],
      "metadata": {
        "id": "vsHu93lFS454"
      }
    },
    {
      "cell_type": "code",
      "source": [
        "# Create a table using pandas dataframe to view movie RATINGS.\n",
        "\n",
        "ratings_table = pd.read_sql(\"\"\"\n",
        "            SELECT * FROM movie_ratings;\"\"\", conn)\n",
        "ratings_table.head()"
      ],
      "metadata": {
        "colab": {
          "base_uri": "https://localhost:8080/",
          "height": 206
        },
        "id": "lRdOh7a5LKVl",
        "outputId": "9f98e8cb-b36f-436e-be22-cefbb091a237"
      },
      "execution_count": 239,
      "outputs": [
        {
          "output_type": "execute_result",
          "data": {
            "text/plain": [
              "     movie_id  averagerating  numvotes\n",
              "0  tt10356526            8.3        31\n",
              "1  tt10384606            8.9       559\n",
              "2   tt1042974            6.4        20\n",
              "3   tt1043726            4.2     50352\n",
              "4   tt1060240            6.5        21"
            ],
            "text/html": [
              "\n",
              "  <div id=\"df-c14f84ad-89ef-4ad7-a18c-ad22c87f5b5d\">\n",
              "    <div class=\"colab-df-container\">\n",
              "      <div>\n",
              "<style scoped>\n",
              "    .dataframe tbody tr th:only-of-type {\n",
              "        vertical-align: middle;\n",
              "    }\n",
              "\n",
              "    .dataframe tbody tr th {\n",
              "        vertical-align: top;\n",
              "    }\n",
              "\n",
              "    .dataframe thead th {\n",
              "        text-align: right;\n",
              "    }\n",
              "</style>\n",
              "<table border=\"1\" class=\"dataframe\">\n",
              "  <thead>\n",
              "    <tr style=\"text-align: right;\">\n",
              "      <th></th>\n",
              "      <th>movie_id</th>\n",
              "      <th>averagerating</th>\n",
              "      <th>numvotes</th>\n",
              "    </tr>\n",
              "  </thead>\n",
              "  <tbody>\n",
              "    <tr>\n",
              "      <th>0</th>\n",
              "      <td>tt10356526</td>\n",
              "      <td>8.3</td>\n",
              "      <td>31</td>\n",
              "    </tr>\n",
              "    <tr>\n",
              "      <th>1</th>\n",
              "      <td>tt10384606</td>\n",
              "      <td>8.9</td>\n",
              "      <td>559</td>\n",
              "    </tr>\n",
              "    <tr>\n",
              "      <th>2</th>\n",
              "      <td>tt1042974</td>\n",
              "      <td>6.4</td>\n",
              "      <td>20</td>\n",
              "    </tr>\n",
              "    <tr>\n",
              "      <th>3</th>\n",
              "      <td>tt1043726</td>\n",
              "      <td>4.2</td>\n",
              "      <td>50352</td>\n",
              "    </tr>\n",
              "    <tr>\n",
              "      <th>4</th>\n",
              "      <td>tt1060240</td>\n",
              "      <td>6.5</td>\n",
              "      <td>21</td>\n",
              "    </tr>\n",
              "  </tbody>\n",
              "</table>\n",
              "</div>\n",
              "      <button class=\"colab-df-convert\" onclick=\"convertToInteractive('df-c14f84ad-89ef-4ad7-a18c-ad22c87f5b5d')\"\n",
              "              title=\"Convert this dataframe to an interactive table.\"\n",
              "              style=\"display:none;\">\n",
              "        \n",
              "  <svg xmlns=\"http://www.w3.org/2000/svg\" height=\"24px\"viewBox=\"0 0 24 24\"\n",
              "       width=\"24px\">\n",
              "    <path d=\"M0 0h24v24H0V0z\" fill=\"none\"/>\n",
              "    <path d=\"M18.56 5.44l.94 2.06.94-2.06 2.06-.94-2.06-.94-.94-2.06-.94 2.06-2.06.94zm-11 1L8.5 8.5l.94-2.06 2.06-.94-2.06-.94L8.5 2.5l-.94 2.06-2.06.94zm10 10l.94 2.06.94-2.06 2.06-.94-2.06-.94-.94-2.06-.94 2.06-2.06.94z\"/><path d=\"M17.41 7.96l-1.37-1.37c-.4-.4-.92-.59-1.43-.59-.52 0-1.04.2-1.43.59L10.3 9.45l-7.72 7.72c-.78.78-.78 2.05 0 2.83L4 21.41c.39.39.9.59 1.41.59.51 0 1.02-.2 1.41-.59l7.78-7.78 2.81-2.81c.8-.78.8-2.07 0-2.86zM5.41 20L4 18.59l7.72-7.72 1.47 1.35L5.41 20z\"/>\n",
              "  </svg>\n",
              "      </button>\n",
              "      \n",
              "  <style>\n",
              "    .colab-df-container {\n",
              "      display:flex;\n",
              "      flex-wrap:wrap;\n",
              "      gap: 12px;\n",
              "    }\n",
              "\n",
              "    .colab-df-convert {\n",
              "      background-color: #E8F0FE;\n",
              "      border: none;\n",
              "      border-radius: 50%;\n",
              "      cursor: pointer;\n",
              "      display: none;\n",
              "      fill: #1967D2;\n",
              "      height: 32px;\n",
              "      padding: 0 0 0 0;\n",
              "      width: 32px;\n",
              "    }\n",
              "\n",
              "    .colab-df-convert:hover {\n",
              "      background-color: #E2EBFA;\n",
              "      box-shadow: 0px 1px 2px rgba(60, 64, 67, 0.3), 0px 1px 3px 1px rgba(60, 64, 67, 0.15);\n",
              "      fill: #174EA6;\n",
              "    }\n",
              "\n",
              "    [theme=dark] .colab-df-convert {\n",
              "      background-color: #3B4455;\n",
              "      fill: #D2E3FC;\n",
              "    }\n",
              "\n",
              "    [theme=dark] .colab-df-convert:hover {\n",
              "      background-color: #434B5C;\n",
              "      box-shadow: 0px 1px 3px 1px rgba(0, 0, 0, 0.15);\n",
              "      filter: drop-shadow(0px 1px 2px rgba(0, 0, 0, 0.3));\n",
              "      fill: #FFFFFF;\n",
              "    }\n",
              "  </style>\n",
              "\n",
              "      <script>\n",
              "        const buttonEl =\n",
              "          document.querySelector('#df-c14f84ad-89ef-4ad7-a18c-ad22c87f5b5d button.colab-df-convert');\n",
              "        buttonEl.style.display =\n",
              "          google.colab.kernel.accessAllowed ? 'block' : 'none';\n",
              "\n",
              "        async function convertToInteractive(key) {\n",
              "          const element = document.querySelector('#df-c14f84ad-89ef-4ad7-a18c-ad22c87f5b5d');\n",
              "          const dataTable =\n",
              "            await google.colab.kernel.invokeFunction('convertToInteractive',\n",
              "                                                     [key], {});\n",
              "          if (!dataTable) return;\n",
              "\n",
              "          const docLinkHtml = 'Like what you see? Visit the ' +\n",
              "            '<a target=\"_blank\" href=https://colab.research.google.com/notebooks/data_table.ipynb>data table notebook</a>'\n",
              "            + ' to learn more about interactive tables.';\n",
              "          element.innerHTML = '';\n",
              "          dataTable['output_type'] = 'display_data';\n",
              "          await google.colab.output.renderOutput(dataTable, element);\n",
              "          const docLink = document.createElement('div');\n",
              "          docLink.innerHTML = docLinkHtml;\n",
              "          element.appendChild(docLink);\n",
              "        }\n",
              "      </script>\n",
              "    </div>\n",
              "  </div>\n",
              "  "
            ]
          },
          "metadata": {},
          "execution_count": 239
        }
      ]
    },
    {
      "cell_type": "code",
      "source": [
        "#checking datatype\n",
        "ratings_table.info()"
      ],
      "metadata": {
        "colab": {
          "base_uri": "https://localhost:8080/"
        },
        "id": "5F9g3bqTTCEL",
        "outputId": "38b325d2-52dc-4dd1-c328-49d844389bdf"
      },
      "execution_count": 240,
      "outputs": [
        {
          "output_type": "stream",
          "name": "stdout",
          "text": [
            "<class 'pandas.core.frame.DataFrame'>\n",
            "RangeIndex: 73856 entries, 0 to 73855\n",
            "Data columns (total 3 columns):\n",
            " #   Column         Non-Null Count  Dtype  \n",
            "---  ------         --------------  -----  \n",
            " 0   movie_id       73856 non-null  object \n",
            " 1   averagerating  73856 non-null  float64\n",
            " 2   numvotes       73856 non-null  int64  \n",
            "dtypes: float64(1), int64(1), object(1)\n",
            "memory usage: 1.7+ MB\n"
          ]
        }
      ]
    },
    {
      "cell_type": "markdown",
      "source": [
        "*Observation* The database base float, integer and string datatype."
      ],
      "metadata": {
        "id": "5Yzk4RTuUJm4"
      }
    },
    {
      "cell_type": "markdown",
      "source": [
        "I join the movie rating and the movie basic table."
      ],
      "metadata": {
        "id": "I4-r9QbtdqAh"
      }
    },
    {
      "cell_type": "code",
      "source": [
        "tables = pd.read_sql(\"\"\"\n",
        "                      SELECT * \n",
        "                      FROM movie_ratings\n",
        "                      LEFT JOIN movie_basics\n",
        "                      USING(movie_id);\"\"\", conn)\n",
        "tables.head()"
      ],
      "metadata": {
        "colab": {
          "base_uri": "https://localhost:8080/",
          "height": 206
        },
        "id": "Ih25aZ35S3_1",
        "outputId": "54b5db4e-80ef-42cf-9bee-fbbde86a6113"
      },
      "execution_count": 241,
      "outputs": [
        {
          "output_type": "execute_result",
          "data": {
            "text/plain": [
              "     movie_id  averagerating  numvotes           primary_title  \\\n",
              "0  tt10356526            8.3        31        Laiye Je Yaarian   \n",
              "1  tt10384606            8.9       559              Borderless   \n",
              "2   tt1042974            6.4        20               Just Inès   \n",
              "3   tt1043726            4.2     50352  The Legend of Hercules   \n",
              "4   tt1060240            6.5        21               Até Onde?   \n",
              "\n",
              "           original_title  start_year  runtime_minutes  \\\n",
              "0        Laiye Je Yaarian        2019            117.0   \n",
              "1              Borderless        2019             87.0   \n",
              "2               Just Inès        2010             90.0   \n",
              "3  The Legend of Hercules        2014             99.0   \n",
              "4               Até Onde?        2011             73.0   \n",
              "\n",
              "                     genres  \n",
              "0                   Romance  \n",
              "1               Documentary  \n",
              "2                     Drama  \n",
              "3  Action,Adventure,Fantasy  \n",
              "4          Mystery,Thriller  "
            ],
            "text/html": [
              "\n",
              "  <div id=\"df-8722ca32-2dff-4743-b3f5-e21a862ae4f2\">\n",
              "    <div class=\"colab-df-container\">\n",
              "      <div>\n",
              "<style scoped>\n",
              "    .dataframe tbody tr th:only-of-type {\n",
              "        vertical-align: middle;\n",
              "    }\n",
              "\n",
              "    .dataframe tbody tr th {\n",
              "        vertical-align: top;\n",
              "    }\n",
              "\n",
              "    .dataframe thead th {\n",
              "        text-align: right;\n",
              "    }\n",
              "</style>\n",
              "<table border=\"1\" class=\"dataframe\">\n",
              "  <thead>\n",
              "    <tr style=\"text-align: right;\">\n",
              "      <th></th>\n",
              "      <th>movie_id</th>\n",
              "      <th>averagerating</th>\n",
              "      <th>numvotes</th>\n",
              "      <th>primary_title</th>\n",
              "      <th>original_title</th>\n",
              "      <th>start_year</th>\n",
              "      <th>runtime_minutes</th>\n",
              "      <th>genres</th>\n",
              "    </tr>\n",
              "  </thead>\n",
              "  <tbody>\n",
              "    <tr>\n",
              "      <th>0</th>\n",
              "      <td>tt10356526</td>\n",
              "      <td>8.3</td>\n",
              "      <td>31</td>\n",
              "      <td>Laiye Je Yaarian</td>\n",
              "      <td>Laiye Je Yaarian</td>\n",
              "      <td>2019</td>\n",
              "      <td>117.0</td>\n",
              "      <td>Romance</td>\n",
              "    </tr>\n",
              "    <tr>\n",
              "      <th>1</th>\n",
              "      <td>tt10384606</td>\n",
              "      <td>8.9</td>\n",
              "      <td>559</td>\n",
              "      <td>Borderless</td>\n",
              "      <td>Borderless</td>\n",
              "      <td>2019</td>\n",
              "      <td>87.0</td>\n",
              "      <td>Documentary</td>\n",
              "    </tr>\n",
              "    <tr>\n",
              "      <th>2</th>\n",
              "      <td>tt1042974</td>\n",
              "      <td>6.4</td>\n",
              "      <td>20</td>\n",
              "      <td>Just Inès</td>\n",
              "      <td>Just Inès</td>\n",
              "      <td>2010</td>\n",
              "      <td>90.0</td>\n",
              "      <td>Drama</td>\n",
              "    </tr>\n",
              "    <tr>\n",
              "      <th>3</th>\n",
              "      <td>tt1043726</td>\n",
              "      <td>4.2</td>\n",
              "      <td>50352</td>\n",
              "      <td>The Legend of Hercules</td>\n",
              "      <td>The Legend of Hercules</td>\n",
              "      <td>2014</td>\n",
              "      <td>99.0</td>\n",
              "      <td>Action,Adventure,Fantasy</td>\n",
              "    </tr>\n",
              "    <tr>\n",
              "      <th>4</th>\n",
              "      <td>tt1060240</td>\n",
              "      <td>6.5</td>\n",
              "      <td>21</td>\n",
              "      <td>Até Onde?</td>\n",
              "      <td>Até Onde?</td>\n",
              "      <td>2011</td>\n",
              "      <td>73.0</td>\n",
              "      <td>Mystery,Thriller</td>\n",
              "    </tr>\n",
              "  </tbody>\n",
              "</table>\n",
              "</div>\n",
              "      <button class=\"colab-df-convert\" onclick=\"convertToInteractive('df-8722ca32-2dff-4743-b3f5-e21a862ae4f2')\"\n",
              "              title=\"Convert this dataframe to an interactive table.\"\n",
              "              style=\"display:none;\">\n",
              "        \n",
              "  <svg xmlns=\"http://www.w3.org/2000/svg\" height=\"24px\"viewBox=\"0 0 24 24\"\n",
              "       width=\"24px\">\n",
              "    <path d=\"M0 0h24v24H0V0z\" fill=\"none\"/>\n",
              "    <path d=\"M18.56 5.44l.94 2.06.94-2.06 2.06-.94-2.06-.94-.94-2.06-.94 2.06-2.06.94zm-11 1L8.5 8.5l.94-2.06 2.06-.94-2.06-.94L8.5 2.5l-.94 2.06-2.06.94zm10 10l.94 2.06.94-2.06 2.06-.94-2.06-.94-.94-2.06-.94 2.06-2.06.94z\"/><path d=\"M17.41 7.96l-1.37-1.37c-.4-.4-.92-.59-1.43-.59-.52 0-1.04.2-1.43.59L10.3 9.45l-7.72 7.72c-.78.78-.78 2.05 0 2.83L4 21.41c.39.39.9.59 1.41.59.51 0 1.02-.2 1.41-.59l7.78-7.78 2.81-2.81c.8-.78.8-2.07 0-2.86zM5.41 20L4 18.59l7.72-7.72 1.47 1.35L5.41 20z\"/>\n",
              "  </svg>\n",
              "      </button>\n",
              "      \n",
              "  <style>\n",
              "    .colab-df-container {\n",
              "      display:flex;\n",
              "      flex-wrap:wrap;\n",
              "      gap: 12px;\n",
              "    }\n",
              "\n",
              "    .colab-df-convert {\n",
              "      background-color: #E8F0FE;\n",
              "      border: none;\n",
              "      border-radius: 50%;\n",
              "      cursor: pointer;\n",
              "      display: none;\n",
              "      fill: #1967D2;\n",
              "      height: 32px;\n",
              "      padding: 0 0 0 0;\n",
              "      width: 32px;\n",
              "    }\n",
              "\n",
              "    .colab-df-convert:hover {\n",
              "      background-color: #E2EBFA;\n",
              "      box-shadow: 0px 1px 2px rgba(60, 64, 67, 0.3), 0px 1px 3px 1px rgba(60, 64, 67, 0.15);\n",
              "      fill: #174EA6;\n",
              "    }\n",
              "\n",
              "    [theme=dark] .colab-df-convert {\n",
              "      background-color: #3B4455;\n",
              "      fill: #D2E3FC;\n",
              "    }\n",
              "\n",
              "    [theme=dark] .colab-df-convert:hover {\n",
              "      background-color: #434B5C;\n",
              "      box-shadow: 0px 1px 3px 1px rgba(0, 0, 0, 0.15);\n",
              "      filter: drop-shadow(0px 1px 2px rgba(0, 0, 0, 0.3));\n",
              "      fill: #FFFFFF;\n",
              "    }\n",
              "  </style>\n",
              "\n",
              "      <script>\n",
              "        const buttonEl =\n",
              "          document.querySelector('#df-8722ca32-2dff-4743-b3f5-e21a862ae4f2 button.colab-df-convert');\n",
              "        buttonEl.style.display =\n",
              "          google.colab.kernel.accessAllowed ? 'block' : 'none';\n",
              "\n",
              "        async function convertToInteractive(key) {\n",
              "          const element = document.querySelector('#df-8722ca32-2dff-4743-b3f5-e21a862ae4f2');\n",
              "          const dataTable =\n",
              "            await google.colab.kernel.invokeFunction('convertToInteractive',\n",
              "                                                     [key], {});\n",
              "          if (!dataTable) return;\n",
              "\n",
              "          const docLinkHtml = 'Like what you see? Visit the ' +\n",
              "            '<a target=\"_blank\" href=https://colab.research.google.com/notebooks/data_table.ipynb>data table notebook</a>'\n",
              "            + ' to learn more about interactive tables.';\n",
              "          element.innerHTML = '';\n",
              "          dataTable['output_type'] = 'display_data';\n",
              "          await google.colab.output.renderOutput(dataTable, element);\n",
              "          const docLink = document.createElement('div');\n",
              "          docLink.innerHTML = docLinkHtml;\n",
              "          element.appendChild(docLink);\n",
              "        }\n",
              "      </script>\n",
              "    </div>\n",
              "  </div>\n",
              "  "
            ]
          },
          "metadata": {},
          "execution_count": 241
        }
      ]
    },
    {
      "cell_type": "code",
      "source": [
        "#checking tables datatype\n",
        "tables.info()"
      ],
      "metadata": {
        "colab": {
          "base_uri": "https://localhost:8080/"
        },
        "id": "pZHD4VIvwJfl",
        "outputId": "07256b21-ebec-4839-c4fa-b76a1b88b944"
      },
      "execution_count": 242,
      "outputs": [
        {
          "output_type": "stream",
          "name": "stdout",
          "text": [
            "<class 'pandas.core.frame.DataFrame'>\n",
            "RangeIndex: 73856 entries, 0 to 73855\n",
            "Data columns (total 8 columns):\n",
            " #   Column           Non-Null Count  Dtype  \n",
            "---  ------           --------------  -----  \n",
            " 0   movie_id         73856 non-null  object \n",
            " 1   averagerating    73856 non-null  float64\n",
            " 2   numvotes         73856 non-null  int64  \n",
            " 3   primary_title    73856 non-null  object \n",
            " 4   original_title   73856 non-null  object \n",
            " 5   start_year       73856 non-null  int64  \n",
            " 6   runtime_minutes  66236 non-null  float64\n",
            " 7   genres           73052 non-null  object \n",
            "dtypes: float64(2), int64(2), object(4)\n",
            "memory usage: 4.5+ MB\n"
          ]
        }
      ]
    },
    {
      "cell_type": "markdown",
      "source": [
        "(iii). MOVIE_INFO DATASET"
      ],
      "metadata": {
        "id": "enlYZx8W5ErR"
      }
    },
    {
      "cell_type": "code",
      "source": [
        "# opening the dataset\n",
        "\n",
        "m_info = pd.read_csv('rt.movie_info.tsv.gz', delimiter='\\t', encoding = 'latin1')\n",
        "\n",
        "# check first five row of the dataset\n",
        "\n",
        "m_info.head()\n"
      ],
      "metadata": {
        "colab": {
          "base_uri": "https://localhost:8080/",
          "height": 206
        },
        "id": "olTGpnZW5dNQ",
        "outputId": "84cd386e-b83c-4d0e-8997-a22e99e0b430"
      },
      "execution_count": 243,
      "outputs": [
        {
          "output_type": "execute_result",
          "data": {
            "text/plain": [
              "   id                                           synopsis rating  \\\n",
              "0   1  This gritty, fast-paced, and innovative police...      R   \n",
              "1   3  New York City, not-too-distant-future: Eric Pa...      R   \n",
              "2   5  Illeana Douglas delivers a superb performance ...      R   \n",
              "3   6  Michael Douglas runs afoul of a treacherous su...      R   \n",
              "4   7                                                NaN     NR   \n",
              "\n",
              "                                 genre          director  \\\n",
              "0  Action and Adventure|Classics|Drama  William Friedkin   \n",
              "1    Drama|Science Fiction and Fantasy  David Cronenberg   \n",
              "2    Drama|Musical and Performing Arts    Allison Anders   \n",
              "3           Drama|Mystery and Suspense    Barry Levinson   \n",
              "4                        Drama|Romance    Rodney Bennett   \n",
              "\n",
              "                            writer  theater_date      dvd_date currency  \\\n",
              "0                   Ernest Tidyman   Oct 9, 1971  Sep 25, 2001      NaN   \n",
              "1     David Cronenberg|Don DeLillo  Aug 17, 2012   Jan 1, 2013        $   \n",
              "2                   Allison Anders  Sep 13, 1996  Apr 18, 2000      NaN   \n",
              "3  Paul Attanasio|Michael Crichton   Dec 9, 1994  Aug 27, 1997      NaN   \n",
              "4                     Giles Cooper           NaN           NaN      NaN   \n",
              "\n",
              "  box_office      runtime             studio  \n",
              "0        NaN  104 minutes                NaN  \n",
              "1    600,000  108 minutes  Entertainment One  \n",
              "2        NaN  116 minutes                NaN  \n",
              "3        NaN  128 minutes                NaN  \n",
              "4        NaN  200 minutes                NaN  "
            ],
            "text/html": [
              "\n",
              "  <div id=\"df-cbe2940b-c3a0-4f91-a0d4-ccf2e54adc21\">\n",
              "    <div class=\"colab-df-container\">\n",
              "      <div>\n",
              "<style scoped>\n",
              "    .dataframe tbody tr th:only-of-type {\n",
              "        vertical-align: middle;\n",
              "    }\n",
              "\n",
              "    .dataframe tbody tr th {\n",
              "        vertical-align: top;\n",
              "    }\n",
              "\n",
              "    .dataframe thead th {\n",
              "        text-align: right;\n",
              "    }\n",
              "</style>\n",
              "<table border=\"1\" class=\"dataframe\">\n",
              "  <thead>\n",
              "    <tr style=\"text-align: right;\">\n",
              "      <th></th>\n",
              "      <th>id</th>\n",
              "      <th>synopsis</th>\n",
              "      <th>rating</th>\n",
              "      <th>genre</th>\n",
              "      <th>director</th>\n",
              "      <th>writer</th>\n",
              "      <th>theater_date</th>\n",
              "      <th>dvd_date</th>\n",
              "      <th>currency</th>\n",
              "      <th>box_office</th>\n",
              "      <th>runtime</th>\n",
              "      <th>studio</th>\n",
              "    </tr>\n",
              "  </thead>\n",
              "  <tbody>\n",
              "    <tr>\n",
              "      <th>0</th>\n",
              "      <td>1</td>\n",
              "      <td>This gritty, fast-paced, and innovative police...</td>\n",
              "      <td>R</td>\n",
              "      <td>Action and Adventure|Classics|Drama</td>\n",
              "      <td>William Friedkin</td>\n",
              "      <td>Ernest Tidyman</td>\n",
              "      <td>Oct 9, 1971</td>\n",
              "      <td>Sep 25, 2001</td>\n",
              "      <td>NaN</td>\n",
              "      <td>NaN</td>\n",
              "      <td>104 minutes</td>\n",
              "      <td>NaN</td>\n",
              "    </tr>\n",
              "    <tr>\n",
              "      <th>1</th>\n",
              "      <td>3</td>\n",
              "      <td>New York City, not-too-distant-future: Eric Pa...</td>\n",
              "      <td>R</td>\n",
              "      <td>Drama|Science Fiction and Fantasy</td>\n",
              "      <td>David Cronenberg</td>\n",
              "      <td>David Cronenberg|Don DeLillo</td>\n",
              "      <td>Aug 17, 2012</td>\n",
              "      <td>Jan 1, 2013</td>\n",
              "      <td>$</td>\n",
              "      <td>600,000</td>\n",
              "      <td>108 minutes</td>\n",
              "      <td>Entertainment One</td>\n",
              "    </tr>\n",
              "    <tr>\n",
              "      <th>2</th>\n",
              "      <td>5</td>\n",
              "      <td>Illeana Douglas delivers a superb performance ...</td>\n",
              "      <td>R</td>\n",
              "      <td>Drama|Musical and Performing Arts</td>\n",
              "      <td>Allison Anders</td>\n",
              "      <td>Allison Anders</td>\n",
              "      <td>Sep 13, 1996</td>\n",
              "      <td>Apr 18, 2000</td>\n",
              "      <td>NaN</td>\n",
              "      <td>NaN</td>\n",
              "      <td>116 minutes</td>\n",
              "      <td>NaN</td>\n",
              "    </tr>\n",
              "    <tr>\n",
              "      <th>3</th>\n",
              "      <td>6</td>\n",
              "      <td>Michael Douglas runs afoul of a treacherous su...</td>\n",
              "      <td>R</td>\n",
              "      <td>Drama|Mystery and Suspense</td>\n",
              "      <td>Barry Levinson</td>\n",
              "      <td>Paul Attanasio|Michael Crichton</td>\n",
              "      <td>Dec 9, 1994</td>\n",
              "      <td>Aug 27, 1997</td>\n",
              "      <td>NaN</td>\n",
              "      <td>NaN</td>\n",
              "      <td>128 minutes</td>\n",
              "      <td>NaN</td>\n",
              "    </tr>\n",
              "    <tr>\n",
              "      <th>4</th>\n",
              "      <td>7</td>\n",
              "      <td>NaN</td>\n",
              "      <td>NR</td>\n",
              "      <td>Drama|Romance</td>\n",
              "      <td>Rodney Bennett</td>\n",
              "      <td>Giles Cooper</td>\n",
              "      <td>NaN</td>\n",
              "      <td>NaN</td>\n",
              "      <td>NaN</td>\n",
              "      <td>NaN</td>\n",
              "      <td>200 minutes</td>\n",
              "      <td>NaN</td>\n",
              "    </tr>\n",
              "  </tbody>\n",
              "</table>\n",
              "</div>\n",
              "      <button class=\"colab-df-convert\" onclick=\"convertToInteractive('df-cbe2940b-c3a0-4f91-a0d4-ccf2e54adc21')\"\n",
              "              title=\"Convert this dataframe to an interactive table.\"\n",
              "              style=\"display:none;\">\n",
              "        \n",
              "  <svg xmlns=\"http://www.w3.org/2000/svg\" height=\"24px\"viewBox=\"0 0 24 24\"\n",
              "       width=\"24px\">\n",
              "    <path d=\"M0 0h24v24H0V0z\" fill=\"none\"/>\n",
              "    <path d=\"M18.56 5.44l.94 2.06.94-2.06 2.06-.94-2.06-.94-.94-2.06-.94 2.06-2.06.94zm-11 1L8.5 8.5l.94-2.06 2.06-.94-2.06-.94L8.5 2.5l-.94 2.06-2.06.94zm10 10l.94 2.06.94-2.06 2.06-.94-2.06-.94-.94-2.06-.94 2.06-2.06.94z\"/><path d=\"M17.41 7.96l-1.37-1.37c-.4-.4-.92-.59-1.43-.59-.52 0-1.04.2-1.43.59L10.3 9.45l-7.72 7.72c-.78.78-.78 2.05 0 2.83L4 21.41c.39.39.9.59 1.41.59.51 0 1.02-.2 1.41-.59l7.78-7.78 2.81-2.81c.8-.78.8-2.07 0-2.86zM5.41 20L4 18.59l7.72-7.72 1.47 1.35L5.41 20z\"/>\n",
              "  </svg>\n",
              "      </button>\n",
              "      \n",
              "  <style>\n",
              "    .colab-df-container {\n",
              "      display:flex;\n",
              "      flex-wrap:wrap;\n",
              "      gap: 12px;\n",
              "    }\n",
              "\n",
              "    .colab-df-convert {\n",
              "      background-color: #E8F0FE;\n",
              "      border: none;\n",
              "      border-radius: 50%;\n",
              "      cursor: pointer;\n",
              "      display: none;\n",
              "      fill: #1967D2;\n",
              "      height: 32px;\n",
              "      padding: 0 0 0 0;\n",
              "      width: 32px;\n",
              "    }\n",
              "\n",
              "    .colab-df-convert:hover {\n",
              "      background-color: #E2EBFA;\n",
              "      box-shadow: 0px 1px 2px rgba(60, 64, 67, 0.3), 0px 1px 3px 1px rgba(60, 64, 67, 0.15);\n",
              "      fill: #174EA6;\n",
              "    }\n",
              "\n",
              "    [theme=dark] .colab-df-convert {\n",
              "      background-color: #3B4455;\n",
              "      fill: #D2E3FC;\n",
              "    }\n",
              "\n",
              "    [theme=dark] .colab-df-convert:hover {\n",
              "      background-color: #434B5C;\n",
              "      box-shadow: 0px 1px 3px 1px rgba(0, 0, 0, 0.15);\n",
              "      filter: drop-shadow(0px 1px 2px rgba(0, 0, 0, 0.3));\n",
              "      fill: #FFFFFF;\n",
              "    }\n",
              "  </style>\n",
              "\n",
              "      <script>\n",
              "        const buttonEl =\n",
              "          document.querySelector('#df-cbe2940b-c3a0-4f91-a0d4-ccf2e54adc21 button.colab-df-convert');\n",
              "        buttonEl.style.display =\n",
              "          google.colab.kernel.accessAllowed ? 'block' : 'none';\n",
              "\n",
              "        async function convertToInteractive(key) {\n",
              "          const element = document.querySelector('#df-cbe2940b-c3a0-4f91-a0d4-ccf2e54adc21');\n",
              "          const dataTable =\n",
              "            await google.colab.kernel.invokeFunction('convertToInteractive',\n",
              "                                                     [key], {});\n",
              "          if (!dataTable) return;\n",
              "\n",
              "          const docLinkHtml = 'Like what you see? Visit the ' +\n",
              "            '<a target=\"_blank\" href=https://colab.research.google.com/notebooks/data_table.ipynb>data table notebook</a>'\n",
              "            + ' to learn more about interactive tables.';\n",
              "          element.innerHTML = '';\n",
              "          dataTable['output_type'] = 'display_data';\n",
              "          await google.colab.output.renderOutput(dataTable, element);\n",
              "          const docLink = document.createElement('div');\n",
              "          docLink.innerHTML = docLinkHtml;\n",
              "          element.appendChild(docLink);\n",
              "        }\n",
              "      </script>\n",
              "    </div>\n",
              "  </div>\n",
              "  "
            ]
          },
          "metadata": {},
          "execution_count": 243
        }
      ]
    },
    {
      "cell_type": "code",
      "source": [
        "# Determine the number of records in our dataset\n",
        "\n",
        "print(m_info.shape)"
      ],
      "metadata": {
        "colab": {
          "base_uri": "https://localhost:8080/"
        },
        "id": "vrjyFe378BxD",
        "outputId": "407f5087-3b93-46f3-e0f0-b3dd65d1d601"
      },
      "execution_count": 244,
      "outputs": [
        {
          "output_type": "stream",
          "name": "stdout",
          "text": [
            "(1560, 12)\n"
          ]
        }
      ]
    },
    {
      "cell_type": "markdown",
      "source": [
        "*observation* Dataset has 1560 rows and 12 columns."
      ],
      "metadata": {
        "id": "lldv4WsL5TRh"
      }
    },
    {
      "cell_type": "code",
      "source": [
        "# check for datatype and missing values\n",
        "m_info.info()"
      ],
      "metadata": {
        "colab": {
          "base_uri": "https://localhost:8080/"
        },
        "id": "Wa89mHwF9Mlb",
        "outputId": "c632501e-520c-4b93-82be-bb80954ab614"
      },
      "execution_count": 245,
      "outputs": [
        {
          "output_type": "stream",
          "name": "stdout",
          "text": [
            "<class 'pandas.core.frame.DataFrame'>\n",
            "RangeIndex: 1560 entries, 0 to 1559\n",
            "Data columns (total 12 columns):\n",
            " #   Column        Non-Null Count  Dtype \n",
            "---  ------        --------------  ----- \n",
            " 0   id            1560 non-null   int64 \n",
            " 1   synopsis      1498 non-null   object\n",
            " 2   rating        1557 non-null   object\n",
            " 3   genre         1552 non-null   object\n",
            " 4   director      1361 non-null   object\n",
            " 5   writer        1111 non-null   object\n",
            " 6   theater_date  1201 non-null   object\n",
            " 7   dvd_date      1201 non-null   object\n",
            " 8   currency      340 non-null    object\n",
            " 9   box_office    340 non-null    object\n",
            " 10  runtime       1530 non-null   object\n",
            " 11  studio        494 non-null    object\n",
            "dtypes: int64(1), object(11)\n",
            "memory usage: 146.4+ KB\n"
          ]
        }
      ]
    },
    {
      "cell_type": "markdown",
      "source": [
        "*observation* The dataset has integer and string datatype. Columns containing dvd_date, threater_date, curreny, box_office, and studio contain a lot of missing values hence need to be dropped."
      ],
      "metadata": {
        "id": "_BpsubnN9rpS"
      }
    },
    {
      "cell_type": "code",
      "source": [
        "# Remove missing values\n",
        "\n",
        "m_info = m_info.dropna()"
      ],
      "metadata": {
        "id": "U45jCpdT-5qg"
      },
      "execution_count": 246,
      "outputs": []
    },
    {
      "cell_type": "code",
      "source": [
        "# Remove duplicate values\n",
        "\n",
        "m_info = m_info.drop_duplicates()"
      ],
      "metadata": {
        "id": "VuqN0dhx_ndN"
      },
      "execution_count": 247,
      "outputs": []
    },
    {
      "cell_type": "code",
      "source": [
        "#Convert box office column from string to float\n",
        "Box_office = m_info['box_office'].str.replace(',', '').astype(float)"
      ],
      "metadata": {
        "id": "PNpEoOErAlnX"
      },
      "execution_count": 248,
      "outputs": []
    },
    {
      "cell_type": "code",
      "source": [
        "# New dataframe\n",
        "\n",
        "frame = pd.DataFrame(Box_office)"
      ],
      "metadata": {
        "id": "MHc_w9YG_5qV"
      },
      "execution_count": 249,
      "outputs": []
    },
    {
      "cell_type": "markdown",
      "source": [
        "**3. Data Cleaning and Preparation**\n",
        "\n",
        "\n",
        "\n",
        "\n"
      ],
      "metadata": {
        "id": "oDkEeG8nBbNj"
      }
    },
    {
      "cell_type": "markdown",
      "source": [
        "Step that will be carried out at this stage include:\n",
        "\n",
        " (i) Identifying missing values\n",
        "\n",
        " (ii) Determine what action to take on the missing value (drop, maintain or fill using in using mean or median).\n",
        "\n",
        " (iii) Check out if column have required datatype."
      ],
      "metadata": {
        "id": "bVxVO2wvBtNz"
      }
    },
    {
      "cell_type": "code",
      "source": [
        "#check for null values in box_office dataset\n",
        "\n",
        "bmovie.isnull().sum()"
      ],
      "metadata": {
        "colab": {
          "base_uri": "https://localhost:8080/"
        },
        "id": "WgJqzDwQ4QRw",
        "outputId": "d185e34d-a00f-4911-f77b-d7094a4763e7"
      },
      "execution_count": 250,
      "outputs": [
        {
          "output_type": "execute_result",
          "data": {
            "text/plain": [
              "title                0\n",
              "studio               5\n",
              "domestic_gross      28\n",
              "foreign_gross     1350\n",
              "year                 0\n",
              "dtype: int64"
            ]
          },
          "metadata": {},
          "execution_count": 250
        }
      ]
    },
    {
      "cell_type": "markdown",
      "source": [
        "*Obeservation:*  From the above data, it can be seen that most foreign_gross income is not available. Also from the domestic_gross seems we do not have earnings from 28 movie. Hence to work efficently with our data, we will drop all the records that contain missing values. "
      ],
      "metadata": {
        "id": "wXQT8HwGDxi1"
      }
    },
    {
      "cell_type": "code",
      "source": [
        "# Remove all the null values in the box office dataset\n",
        "\n",
        "b_clean = bmovie.dropna()"
      ],
      "metadata": {
        "id": "hKADsZ2MDo__"
      },
      "execution_count": 251,
      "outputs": []
    },
    {
      "cell_type": "code",
      "source": [
        "# Check if all null values have been removed in box office dataset\n",
        "\n",
        "b_clean.info()"
      ],
      "metadata": {
        "colab": {
          "base_uri": "https://localhost:8080/"
        },
        "id": "AIBdf2HSFrHx",
        "outputId": "f96f4eb5-7bcd-4c8d-ea08-6b5e183a6cda"
      },
      "execution_count": 252,
      "outputs": [
        {
          "output_type": "stream",
          "name": "stdout",
          "text": [
            "<class 'pandas.core.frame.DataFrame'>\n",
            "Int64Index: 2007 entries, 0 to 3353\n",
            "Data columns (total 5 columns):\n",
            " #   Column          Non-Null Count  Dtype  \n",
            "---  ------          --------------  -----  \n",
            " 0   title           2007 non-null   object \n",
            " 1   studio          2007 non-null   object \n",
            " 2   domestic_gross  2007 non-null   float64\n",
            " 3   foreign_gross   2007 non-null   object \n",
            " 4   year            2007 non-null   int64  \n",
            "dtypes: float64(1), int64(1), object(3)\n",
            "memory usage: 94.1+ KB\n"
          ]
        }
      ]
    },
    {
      "cell_type": "code",
      "source": [
        "#checking for outliers in box office dataset\n",
        "\n",
        "plt.figure(figsize = (15, 8))\n",
        "b_clean.boxplot()\n",
        "plt.show()"
      ],
      "metadata": {
        "colab": {
          "base_uri": "https://localhost:8080/",
          "height": 714
        },
        "id": "p-lvxStZGqaO",
        "outputId": "f76980d1-e1e2-42c1-e91b-88f99b2f6c13"
      },
      "execution_count": 253,
      "outputs": [
        {
          "output_type": "display_data",
          "data": {
            "text/plain": [
              "<Figure size 1500x800 with 1 Axes>"
            ],
            "image/png": "[encoded data removed]"
          },
          "metadata": {}
        }
      ]
    },
    {
      "cell_type": "markdown",
      "source": [
        "Obersvations: We have outliers in domestics_gross that I consider genuine. This may be influenced by other fcators such as the actors or director of the movie."
      ],
      "metadata": {
        "id": "tI-IWpzFHWxp"
      }
    },
    {
      "cell_type": "code",
      "source": [
        "# Descriptive statictics b_clean\n",
        "\n",
        "b_clean.describe()"
      ],
      "metadata": {
        "colab": {
          "base_uri": "https://localhost:8080/",
          "height": 301
        },
        "id": "Bv_ArqQyGRmZ",
        "outputId": "40910ab0-447a-405d-a288-e9727b3a9d41"
      },
      "execution_count": 254,
      "outputs": [
        {
          "output_type": "execute_result",
          "data": {
            "text/plain": [
              "       domestic_gross         year\n",
              "count    2.007000e+03  2007.000000\n",
              "mean     4.701984e+07  2013.506228\n",
              "std      8.162689e+07     2.597997\n",
              "min      4.000000e+02  2010.000000\n",
              "25%      6.700000e+05  2011.000000\n",
              "50%      1.670000e+07  2013.000000\n",
              "75%      5.605000e+07  2016.000000\n",
              "max      9.367000e+08  2018.000000"
            ],
            "text/html": [
              "\n",
              "  <div id=\"df-8f078a54-fd63-4d10-8cb9-3b26f12bc6e1\">\n",
              "    <div class=\"colab-df-container\">\n",
              "      <div>\n",
              "<style scoped>\n",
              "    .dataframe tbody tr th:only-of-type {\n",
              "        vertical-align: middle;\n",
              "    }\n",
              "\n",
              "    .dataframe tbody tr th {\n",
              "        vertical-align: top;\n",
              "    }\n",
              "\n",
              "    .dataframe thead th {\n",
              "        text-align: right;\n",
              "    }\n",
              "</style>\n",
              "<table border=\"1\" class=\"dataframe\">\n",
              "  <thead>\n",
              "    <tr style=\"text-align: right;\">\n",
              "      <th></th>\n",
              "      <th>domestic_gross</th>\n",
              "      <th>year</th>\n",
              "    </tr>\n",
              "  </thead>\n",
              "  <tbody>\n",
              "    <tr>\n",
              "      <th>count</th>\n",
              "      <td>2.007000e+03</td>\n",
              "      <td>2007.000000</td>\n",
              "    </tr>\n",
              "    <tr>\n",
              "      <th>mean</th>\n",
              "      <td>4.701984e+07</td>\n",
              "      <td>2013.506228</td>\n",
              "    </tr>\n",
              "    <tr>\n",
              "      <th>std</th>\n",
              "      <td>8.162689e+07</td>\n",
              "      <td>2.597997</td>\n",
              "    </tr>\n",
              "    <tr>\n",
              "      <th>min</th>\n",
              "      <td>4.000000e+02</td>\n",
              "      <td>2010.000000</td>\n",
              "    </tr>\n",
              "    <tr>\n",
              "      <th>25%</th>\n",
              "      <td>6.700000e+05</td>\n",
              "      <td>2011.000000</td>\n",
              "    </tr>\n",
              "    <tr>\n",
              "      <th>50%</th>\n",
              "      <td>1.670000e+07</td>\n",
              "      <td>2013.000000</td>\n",
              "    </tr>\n",
              "    <tr>\n",
              "      <th>75%</th>\n",
              "      <td>5.605000e+07</td>\n",
              "      <td>2016.000000</td>\n",
              "    </tr>\n",
              "    <tr>\n",
              "      <th>max</th>\n",
              "      <td>9.367000e+08</td>\n",
              "      <td>2018.000000</td>\n",
              "    </tr>\n",
              "  </tbody>\n",
              "</table>\n",
              "</div>\n",
              "      <button class=\"colab-df-convert\" onclick=\"convertToInteractive('df-8f078a54-fd63-4d10-8cb9-3b26f12bc6e1')\"\n",
              "              title=\"Convert this dataframe to an interactive table.\"\n",
              "              style=\"display:none;\">\n",
              "        \n",
              "  <svg xmlns=\"http://www.w3.org/2000/svg\" height=\"24px\"viewBox=\"0 0 24 24\"\n",
              "       width=\"24px\">\n",
              "    <path d=\"M0 0h24v24H0V0z\" fill=\"none\"/>\n",
              "    <path d=\"M18.56 5.44l.94 2.06.94-2.06 2.06-.94-2.06-.94-.94-2.06-.94 2.06-2.06.94zm-11 1L8.5 8.5l.94-2.06 2.06-.94-2.06-.94L8.5 2.5l-.94 2.06-2.06.94zm10 10l.94 2.06.94-2.06 2.06-.94-2.06-.94-.94-2.06-.94 2.06-2.06.94z\"/><path d=\"M17.41 7.96l-1.37-1.37c-.4-.4-.92-.59-1.43-.59-.52 0-1.04.2-1.43.59L10.3 9.45l-7.72 7.72c-.78.78-.78 2.05 0 2.83L4 21.41c.39.39.9.59 1.41.59.51 0 1.02-.2 1.41-.59l7.78-7.78 2.81-2.81c.8-.78.8-2.07 0-2.86zM5.41 20L4 18.59l7.72-7.72 1.47 1.35L5.41 20z\"/>\n",
              "  </svg>\n",
              "      </button>\n",
              "      \n",
              "  <style>\n",
              "    .colab-df-container {\n",
              "      display:flex;\n",
              "      flex-wrap:wrap;\n",
              "      gap: 12px;\n",
              "    }\n",
              "\n",
              "    .colab-df-convert {\n",
              "      background-color: #E8F0FE;\n",
              "      border: none;\n",
              "      border-radius: 50%;\n",
              "      cursor: pointer;\n",
              "      display: none;\n",
              "      fill: #1967D2;\n",
              "      height: 32px;\n",
              "      padding: 0 0 0 0;\n",
              "      width: 32px;\n",
              "    }\n",
              "\n",
              "    .colab-df-convert:hover {\n",
              "      background-color: #E2EBFA;\n",
              "      box-shadow: 0px 1px 2px rgba(60, 64, 67, 0.3), 0px 1px 3px 1px rgba(60, 64, 67, 0.15);\n",
              "      fill: #174EA6;\n",
              "    }\n",
              "\n",
              "    [theme=dark] .colab-df-convert {\n",
              "      background-color: #3B4455;\n",
              "      fill: #D2E3FC;\n",
              "    }\n",
              "\n",
              "    [theme=dark] .colab-df-convert:hover {\n",
              "      background-color: #434B5C;\n",
              "      box-shadow: 0px 1px 3px 1px rgba(0, 0, 0, 0.15);\n",
              "      filter: drop-shadow(0px 1px 2px rgba(0, 0, 0, 0.3));\n",
              "      fill: #FFFFFF;\n",
              "    }\n",
              "  </style>\n",
              "\n",
              "      <script>\n",
              "        const buttonEl =\n",
              "          document.querySelector('#df-8f078a54-fd63-4d10-8cb9-3b26f12bc6e1 button.colab-df-convert');\n",
              "        buttonEl.style.display =\n",
              "          google.colab.kernel.accessAllowed ? 'block' : 'none';\n",
              "\n",
              "        async function convertToInteractive(key) {\n",
              "          const element = document.querySelector('#df-8f078a54-fd63-4d10-8cb9-3b26f12bc6e1');\n",
              "          const dataTable =\n",
              "            await google.colab.kernel.invokeFunction('convertToInteractive',\n",
              "                                                     [key], {});\n",
              "          if (!dataTable) return;\n",
              "\n",
              "          const docLinkHtml = 'Like what you see? Visit the ' +\n",
              "            '<a target=\"_blank\" href=https://colab.research.google.com/notebooks/data_table.ipynb>data table notebook</a>'\n",
              "            + ' to learn more about interactive tables.';\n",
              "          element.innerHTML = '';\n",
              "          dataTable['output_type'] = 'display_data';\n",
              "          await google.colab.output.renderOutput(dataTable, element);\n",
              "          const docLink = document.createElement('div');\n",
              "          docLink.innerHTML = docLinkHtml;\n",
              "          element.appendChild(docLink);\n",
              "        }\n",
              "      </script>\n",
              "    </div>\n",
              "  </div>\n",
              "  "
            ]
          },
          "metadata": {},
          "execution_count": 254
        }
      ]
    },
    {
      "cell_type": "markdown",
      "source": [
        "*Data cleaning of the IM.DB database*"
      ],
      "metadata": {
        "id": "nU1FTLY9RmkI"
      }
    },
    {
      "cell_type": "code",
      "source": [
        "#check for dublicates in the joined table\n",
        "\n",
        "tables = tables[tables.duplicated()]\n",
        "tables"
      ],
      "metadata": {
        "colab": {
          "base_uri": "https://localhost:8080/",
          "height": 50
        },
        "id": "8Mpqk56cRfQy",
        "outputId": "9cf4be95-a9b9-4ded-b067-bcedc297462d"
      },
      "execution_count": 255,
      "outputs": [
        {
          "output_type": "execute_result",
          "data": {
            "text/plain": [
              "Empty DataFrame\n",
              "Columns: [movie_id, averagerating, numvotes, primary_title, original_title, start_year, runtime_minutes, genres]\n",
              "Index: []"
            ],
            "text/html": [
              "\n",
              "  <div id=\"df-5fd2e292-9945-4e7c-8c3a-7e0831270a54\">\n",
              "    <div class=\"colab-df-container\">\n",
              "      <div>\n",
              "<style scoped>\n",
              "    .dataframe tbody tr th:only-of-type {\n",
              "        vertical-align: middle;\n",
              "    }\n",
              "\n",
              "    .dataframe tbody tr th {\n",
              "        vertical-align: top;\n",
              "    }\n",
              "\n",
              "    .dataframe thead th {\n",
              "        text-align: right;\n",
              "    }\n",
              "</style>\n",
              "<table border=\"1\" class=\"dataframe\">\n",
              "  <thead>\n",
              "    <tr style=\"text-align: right;\">\n",
              "      <th></th>\n",
              "      <th>movie_id</th>\n",
              "      <th>averagerating</th>\n",
              "      <th>numvotes</th>\n",
              "      <th>primary_title</th>\n",
              "      <th>original_title</th>\n",
              "      <th>start_year</th>\n",
              "      <th>runtime_minutes</th>\n",
              "      <th>genres</th>\n",
              "    </tr>\n",
              "  </thead>\n",
              "  <tbody>\n",
              "  </tbody>\n",
              "</table>\n",
              "</div>\n",
              "      <button class=\"colab-df-convert\" onclick=\"convertToInteractive('df-5fd2e292-9945-4e7c-8c3a-7e0831270a54')\"\n",
              "              title=\"Convert this dataframe to an interactive table.\"\n",
              "              style=\"display:none;\">\n",
              "        \n",
              "  <svg xmlns=\"http://www.w3.org/2000/svg\" height=\"24px\"viewBox=\"0 0 24 24\"\n",
              "       width=\"24px\">\n",
              "    <path d=\"M0 0h24v24H0V0z\" fill=\"none\"/>\n",
              "    <path d=\"M18.56 5.44l.94 2.06.94-2.06 2.06-.94-2.06-.94-.94-2.06-.94 2.06-2.06.94zm-11 1L8.5 8.5l.94-2.06 2.06-.94-2.06-.94L8.5 2.5l-.94 2.06-2.06.94zm10 10l.94 2.06.94-2.06 2.06-.94-2.06-.94-.94-2.06-.94 2.06-2.06.94z\"/><path d=\"M17.41 7.96l-1.37-1.37c-.4-.4-.92-.59-1.43-.59-.52 0-1.04.2-1.43.59L10.3 9.45l-7.72 7.72c-.78.78-.78 2.05 0 2.83L4 21.41c.39.39.9.59 1.41.59.51 0 1.02-.2 1.41-.59l7.78-7.78 2.81-2.81c.8-.78.8-2.07 0-2.86zM5.41 20L4 18.59l7.72-7.72 1.47 1.35L5.41 20z\"/>\n",
              "  </svg>\n",
              "      </button>\n",
              "      \n",
              "  <style>\n",
              "    .colab-df-container {\n",
              "      display:flex;\n",
              "      flex-wrap:wrap;\n",
              "      gap: 12px;\n",
              "    }\n",
              "\n",
              "    .colab-df-convert {\n",
              "      background-color: #E8F0FE;\n",
              "      border: none;\n",
              "      border-radius: 50%;\n",
              "      cursor: pointer;\n",
              "      display: none;\n",
              "      fill: #1967D2;\n",
              "      height: 32px;\n",
              "      padding: 0 0 0 0;\n",
              "      width: 32px;\n",
              "    }\n",
              "\n",
              "    .colab-df-convert:hover {\n",
              "      background-color: #E2EBFA;\n",
              "      box-shadow: 0px 1px 2px rgba(60, 64, 67, 0.3), 0px 1px 3px 1px rgba(60, 64, 67, 0.15);\n",
              "      fill: #174EA6;\n",
              "    }\n",
              "\n",
              "    [theme=dark] .colab-df-convert {\n",
              "      background-color: #3B4455;\n",
              "      fill: #D2E3FC;\n",
              "    }\n",
              "\n",
              "    [theme=dark] .colab-df-convert:hover {\n",
              "      background-color: #434B5C;\n",
              "      box-shadow: 0px 1px 3px 1px rgba(0, 0, 0, 0.15);\n",
              "      filter: drop-shadow(0px 1px 2px rgba(0, 0, 0, 0.3));\n",
              "      fill: #FFFFFF;\n",
              "    }\n",
              "  </style>\n",
              "\n",
              "      <script>\n",
              "        const buttonEl =\n",
              "          document.querySelector('#df-5fd2e292-9945-4e7c-8c3a-7e0831270a54 button.colab-df-convert');\n",
              "        buttonEl.style.display =\n",
              "          google.colab.kernel.accessAllowed ? 'block' : 'none';\n",
              "\n",
              "        async function convertToInteractive(key) {\n",
              "          const element = document.querySelector('#df-5fd2e292-9945-4e7c-8c3a-7e0831270a54');\n",
              "          const dataTable =\n",
              "            await google.colab.kernel.invokeFunction('convertToInteractive',\n",
              "                                                     [key], {});\n",
              "          if (!dataTable) return;\n",
              "\n",
              "          const docLinkHtml = 'Like what you see? Visit the ' +\n",
              "            '<a target=\"_blank\" href=https://colab.research.google.com/notebooks/data_table.ipynb>data table notebook</a>'\n",
              "            + ' to learn more about interactive tables.';\n",
              "          element.innerHTML = '';\n",
              "          dataTable['output_type'] = 'display_data';\n",
              "          await google.colab.output.renderOutput(dataTable, element);\n",
              "          const docLink = document.createElement('div');\n",
              "          docLink.innerHTML = docLinkHtml;\n",
              "          element.appendChild(docLink);\n",
              "        }\n",
              "      </script>\n",
              "    </div>\n",
              "  </div>\n",
              "  "
            ]
          },
          "metadata": {},
          "execution_count": 255
        }
      ]
    },
    {
      "cell_type": "code",
      "source": [
        "# Check for null values in the joined table\n",
        "tables.isna().sum()"
      ],
      "metadata": {
        "colab": {
          "base_uri": "https://localhost:8080/"
        },
        "id": "Pa6YLs_Sd6Mw",
        "outputId": "52d40b4d-4da7-485f-9688-f19b6568eebd"
      },
      "execution_count": 256,
      "outputs": [
        {
          "output_type": "execute_result",
          "data": {
            "text/plain": [
              "movie_id           0.0\n",
              "averagerating      0.0\n",
              "numvotes           0.0\n",
              "primary_title      0.0\n",
              "original_title     0.0\n",
              "start_year         0.0\n",
              "runtime_minutes    0.0\n",
              "genres             0.0\n",
              "dtype: float64"
            ]
          },
          "metadata": {},
          "execution_count": 256
        }
      ]
    },
    {
      "cell_type": "markdown",
      "source": [
        "*Observation:* Our database is clean hence I can proceed to analysis step."
      ],
      "metadata": {
        "id": "WM18wIDjudgE"
      }
    },
    {
      "cell_type": "markdown",
      "source": [
        "**4. Data Analysis**\n",
        "\n"
      ],
      "metadata": {
        "id": "ykLamwWixqXJ"
      }
    },
    {
      "cell_type": "markdown",
      "source": [
        "After Cleaning the dataset, we can observe that all the dataset are in  order except for foreign_gross that is in string type and should be in float type."
      ],
      "metadata": {
        "id": "Mp5Axc-1yWVV"
      }
    },
    {
      "cell_type": "code",
      "source": [
        "# Converting string to float type\n",
        "\n",
        "foreign_float = b_clean['foreign_gross'].str.replace(',', '').astype(float)"
      ],
      "metadata": {
        "id": "VTIbgSGKuaKD"
      },
      "execution_count": 257,
      "outputs": []
    },
    {
      "cell_type": "markdown",
      "source": [
        "Then we convert the format of the newly formed string to dataframe type."
      ],
      "metadata": {
        "id": "0GJ2d7Rq2h6F"
      }
    },
    {
      "cell_type": "code",
      "source": [
        "df_foreign_gross = pd.DataFrame(foreign_float)\n",
        "\n",
        "# Combine the two dataframes\n",
        "\n",
        "b_clean  = pd.concat([b_clean, df_foreign_gross], axis=1)"
      ],
      "metadata": {
        "id": "yWV-T83H2aEM"
      },
      "execution_count": 258,
      "outputs": []
    },
    {
      "cell_type": "markdown",
      "source": [
        "Next, I drop foreign_gross as object and make it become a float."
      ],
      "metadata": {
        "id": "0itPVAt17bAF"
      }
    },
    {
      "cell_type": "code",
      "source": [
        "b_clean = b_clean.iloc[:, [0, 1, 2, 4, 5]]\n",
        "\n",
        "b_clean.info() # New dataframe "
      ],
      "metadata": {
        "colab": {
          "base_uri": "https://localhost:8080/"
        },
        "id": "IX3uh2rH3yyk",
        "outputId": "dc1d40e9-1511-481f-d181-e2fae9496de7"
      },
      "execution_count": 259,
      "outputs": [
        {
          "output_type": "stream",
          "name": "stdout",
          "text": [
            "<class 'pandas.core.frame.DataFrame'>\n",
            "Int64Index: 2007 entries, 0 to 3353\n",
            "Data columns (total 5 columns):\n",
            " #   Column          Non-Null Count  Dtype  \n",
            "---  ------          --------------  -----  \n",
            " 0   title           2007 non-null   object \n",
            " 1   studio          2007 non-null   object \n",
            " 2   domestic_gross  2007 non-null   float64\n",
            " 3   year            2007 non-null   int64  \n",
            " 4   foreign_gross   2007 non-null   float64\n",
            "dtypes: float64(2), int64(1), object(2)\n",
            "memory usage: 94.1+ KB\n"
          ]
        }
      ]
    },
    {
      "cell_type": "markdown",
      "source": [
        "I create a new column that will enable me Identify which genre of movie makes the highest gross income both dometically and foreign gross."
      ],
      "metadata": {
        "id": "aUXM8K6680He"
      }
    },
    {
      "cell_type": "code",
      "source": [
        "b_clean['gross total'] = b_clean['domestic_gross'] + b_clean['foreign_gross']\n",
        "\n",
        "b_clean.head(10) # New dataframe with gross total income of top 10 movies."
      ],
      "metadata": {
        "colab": {
          "base_uri": "https://localhost:8080/",
          "height": 363
        },
        "id": "CXTfnN1C8G3w",
        "outputId": "d0cb883c-79b7-4ead-867b-b2550ce7875d"
      },
      "execution_count": 260,
      "outputs": [
        {
          "output_type": "execute_result",
          "data": {
            "text/plain": [
              "                                         title studio  domestic_gross  year  \\\n",
              "0                                  Toy Story 3     BV     415000000.0  2010   \n",
              "1                   Alice in Wonderland (2010)     BV     334200000.0  2010   \n",
              "2  Harry Potter and the Deathly Hallows Part 1     WB     296000000.0  2010   \n",
              "3                                    Inception     WB     292600000.0  2010   \n",
              "4                          Shrek Forever After   P/DW     238700000.0  2010   \n",
              "5                   The Twilight Saga: Eclipse   Sum.     300500000.0  2010   \n",
              "6                                   Iron Man 2   Par.     312400000.0  2010   \n",
              "7                                      Tangled     BV     200800000.0  2010   \n",
              "8                                Despicable Me   Uni.     251500000.0  2010   \n",
              "9                     How to Train Your Dragon   P/DW     217600000.0  2010   \n",
              "\n",
              "   foreign_gross   gross total  \n",
              "0    652000000.0  1.067000e+09  \n",
              "1    691300000.0  1.025500e+09  \n",
              "2    664300000.0  9.603000e+08  \n",
              "3    535700000.0  8.283000e+08  \n",
              "4    513900000.0  7.526000e+08  \n",
              "5    398000000.0  6.985000e+08  \n",
              "6    311500000.0  6.239000e+08  \n",
              "7    391000000.0  5.918000e+08  \n",
              "8    291600000.0  5.431000e+08  \n",
              "9    277300000.0  4.949000e+08  "
            ],
            "text/html": [
              "\n",
              "  <div id=\"df-aa3456b1-677f-4808-8f8c-3ccb568a88ed\">\n",
              "    <div class=\"colab-df-container\">\n",
              "      <div>\n",
              "<style scoped>\n",
              "    .dataframe tbody tr th:only-of-type {\n",
              "        vertical-align: middle;\n",
              "    }\n",
              "\n",
              "    .dataframe tbody tr th {\n",
              "        vertical-align: top;\n",
              "    }\n",
              "\n",
              "    .dataframe thead th {\n",
              "        text-align: right;\n",
              "    }\n",
              "</style>\n",
              "<table border=\"1\" class=\"dataframe\">\n",
              "  <thead>\n",
              "    <tr style=\"text-align: right;\">\n",
              "      <th></th>\n",
              "      <th>title</th>\n",
              "      <th>studio</th>\n",
              "      <th>domestic_gross</th>\n",
              "      <th>year</th>\n",
              "      <th>foreign_gross</th>\n",
              "      <th>gross total</th>\n",
              "    </tr>\n",
              "  </thead>\n",
              "  <tbody>\n",
              "    <tr>\n",
              "      <th>0</th>\n",
              "      <td>Toy Story 3</td>\n",
              "      <td>BV</td>\n",
              "      <td>415000000.0</td>\n",
              "      <td>2010</td>\n",
              "      <td>652000000.0</td>\n",
              "      <td>1.067000e+09</td>\n",
              "    </tr>\n",
              "    <tr>\n",
              "      <th>1</th>\n",
              "      <td>Alice in Wonderland (2010)</td>\n",
              "      <td>BV</td>\n",
              "      <td>334200000.0</td>\n",
              "      <td>2010</td>\n",
              "      <td>691300000.0</td>\n",
              "      <td>1.025500e+09</td>\n",
              "    </tr>\n",
              "    <tr>\n",
              "      <th>2</th>\n",
              "      <td>Harry Potter and the Deathly Hallows Part 1</td>\n",
              "      <td>WB</td>\n",
              "      <td>296000000.0</td>\n",
              "      <td>2010</td>\n",
              "      <td>664300000.0</td>\n",
              "      <td>9.603000e+08</td>\n",
              "    </tr>\n",
              "    <tr>\n",
              "      <th>3</th>\n",
              "      <td>Inception</td>\n",
              "      <td>WB</td>\n",
              "      <td>292600000.0</td>\n",
              "      <td>2010</td>\n",
              "      <td>535700000.0</td>\n",
              "      <td>8.283000e+08</td>\n",
              "    </tr>\n",
              "    <tr>\n",
              "      <th>4</th>\n",
              "      <td>Shrek Forever After</td>\n",
              "      <td>P/DW</td>\n",
              "      <td>238700000.0</td>\n",
              "      <td>2010</td>\n",
              "      <td>513900000.0</td>\n",
              "      <td>7.526000e+08</td>\n",
              "    </tr>\n",
              "    <tr>\n",
              "      <th>5</th>\n",
              "      <td>The Twilight Saga: Eclipse</td>\n",
              "      <td>Sum.</td>\n",
              "      <td>300500000.0</td>\n",
              "      <td>2010</td>\n",
              "      <td>398000000.0</td>\n",
              "      <td>6.985000e+08</td>\n",
              "    </tr>\n",
              "    <tr>\n",
              "      <th>6</th>\n",
              "      <td>Iron Man 2</td>\n",
              "      <td>Par.</td>\n",
              "      <td>312400000.0</td>\n",
              "      <td>2010</td>\n",
              "      <td>311500000.0</td>\n",
              "      <td>6.239000e+08</td>\n",
              "    </tr>\n",
              "    <tr>\n",
              "      <th>7</th>\n",
              "      <td>Tangled</td>\n",
              "      <td>BV</td>\n",
              "      <td>200800000.0</td>\n",
              "      <td>2010</td>\n",
              "      <td>391000000.0</td>\n",
              "      <td>5.918000e+08</td>\n",
              "    </tr>\n",
              "    <tr>\n",
              "      <th>8</th>\n",
              "      <td>Despicable Me</td>\n",
              "      <td>Uni.</td>\n",
              "      <td>251500000.0</td>\n",
              "      <td>2010</td>\n",
              "      <td>291600000.0</td>\n",
              "      <td>5.431000e+08</td>\n",
              "    </tr>\n",
              "    <tr>\n",
              "      <th>9</th>\n",
              "      <td>How to Train Your Dragon</td>\n",
              "      <td>P/DW</td>\n",
              "      <td>217600000.0</td>\n",
              "      <td>2010</td>\n",
              "      <td>277300000.0</td>\n",
              "      <td>4.949000e+08</td>\n",
              "    </tr>\n",
              "  </tbody>\n",
              "</table>\n",
              "</div>\n",
              "      <button class=\"colab-df-convert\" onclick=\"convertToInteractive('df-aa3456b1-677f-4808-8f8c-3ccb568a88ed')\"\n",
              "              title=\"Convert this dataframe to an interactive table.\"\n",
              "              style=\"display:none;\">\n",
              "        \n",
              "  <svg xmlns=\"http://www.w3.org/2000/svg\" height=\"24px\"viewBox=\"0 0 24 24\"\n",
              "       width=\"24px\">\n",
              "    <path d=\"M0 0h24v24H0V0z\" fill=\"none\"/>\n",
              "    <path d=\"M18.56 5.44l.94 2.06.94-2.06 2.06-.94-2.06-.94-.94-2.06-.94 2.06-2.06.94zm-11 1L8.5 8.5l.94-2.06 2.06-.94-2.06-.94L8.5 2.5l-.94 2.06-2.06.94zm10 10l.94 2.06.94-2.06 2.06-.94-2.06-.94-.94-2.06-.94 2.06-2.06.94z\"/><path d=\"M17.41 7.96l-1.37-1.37c-.4-.4-.92-.59-1.43-.59-.52 0-1.04.2-1.43.59L10.3 9.45l-7.72 7.72c-.78.78-.78 2.05 0 2.83L4 21.41c.39.39.9.59 1.41.59.51 0 1.02-.2 1.41-.59l7.78-7.78 2.81-2.81c.8-.78.8-2.07 0-2.86zM5.41 20L4 18.59l7.72-7.72 1.47 1.35L5.41 20z\"/>\n",
              "  </svg>\n",
              "      </button>\n",
              "      \n",
              "  <style>\n",
              "    .colab-df-container {\n",
              "      display:flex;\n",
              "      flex-wrap:wrap;\n",
              "      gap: 12px;\n",
              "    }\n",
              "\n",
              "    .colab-df-convert {\n",
              "      background-color: #E8F0FE;\n",
              "      border: none;\n",
              "      border-radius: 50%;\n",
              "      cursor: pointer;\n",
              "      display: none;\n",
              "      fill: #1967D2;\n",
              "      height: 32px;\n",
              "      padding: 0 0 0 0;\n",
              "      width: 32px;\n",
              "    }\n",
              "\n",
              "    .colab-df-convert:hover {\n",
              "      background-color: #E2EBFA;\n",
              "      box-shadow: 0px 1px 2px rgba(60, 64, 67, 0.3), 0px 1px 3px 1px rgba(60, 64, 67, 0.15);\n",
              "      fill: #174EA6;\n",
              "    }\n",
              "\n",
              "    [theme=dark] .colab-df-convert {\n",
              "      background-color: #3B4455;\n",
              "      fill: #D2E3FC;\n",
              "    }\n",
              "\n",
              "    [theme=dark] .colab-df-convert:hover {\n",
              "      background-color: #434B5C;\n",
              "      box-shadow: 0px 1px 3px 1px rgba(0, 0, 0, 0.15);\n",
              "      filter: drop-shadow(0px 1px 2px rgba(0, 0, 0, 0.3));\n",
              "      fill: #FFFFFF;\n",
              "    }\n",
              "  </style>\n",
              "\n",
              "      <script>\n",
              "        const buttonEl =\n",
              "          document.querySelector('#df-aa3456b1-677f-4808-8f8c-3ccb568a88ed button.colab-df-convert');\n",
              "        buttonEl.style.display =\n",
              "          google.colab.kernel.accessAllowed ? 'block' : 'none';\n",
              "\n",
              "        async function convertToInteractive(key) {\n",
              "          const element = document.querySelector('#df-aa3456b1-677f-4808-8f8c-3ccb568a88ed');\n",
              "          const dataTable =\n",
              "            await google.colab.kernel.invokeFunction('convertToInteractive',\n",
              "                                                     [key], {});\n",
              "          if (!dataTable) return;\n",
              "\n",
              "          const docLinkHtml = 'Like what you see? Visit the ' +\n",
              "            '<a target=\"_blank\" href=https://colab.research.google.com/notebooks/data_table.ipynb>data table notebook</a>'\n",
              "            + ' to learn more about interactive tables.';\n",
              "          element.innerHTML = '';\n",
              "          dataTable['output_type'] = 'display_data';\n",
              "          await google.colab.output.renderOutput(dataTable, element);\n",
              "          const docLink = document.createElement('div');\n",
              "          docLink.innerHTML = docLinkHtml;\n",
              "          element.appendChild(docLink);\n",
              "        }\n",
              "      </script>\n",
              "    </div>\n",
              "  </div>\n",
              "  "
            ]
          },
          "metadata": {},
          "execution_count": 260
        }
      ]
    },
    {
      "cell_type": "markdown",
      "source": [
        "\n",
        "**i. Identify the current big film makers in the movie industry from gross total revenue generated.**\n",
        "\n",
        "This will help us identify film makers generating highest amount of gross revenue both local and internationaly. Who will be our main compitetor once we join the field.\n",
        "\n"
      ],
      "metadata": {
        "id": "-5kfRCjy_uh9"
      }
    },
    {
      "cell_type": "code",
      "source": [
        "# Upper quatitle using 80%\n",
        "\n",
        "upper_quantile = b_clean['gross total'].quantile(0.8)\n",
        "\n",
        "#Studios in the upper quantile\n",
        "\n",
        "top_studios_gross = b_clean.loc[b_clean['gross total'] > upper_quantile]"
      ],
      "metadata": {
        "id": "EVPrppl8_hA4"
      },
      "execution_count": 261,
      "outputs": []
    },
    {
      "cell_type": "code",
      "source": [
        "# data visualization\n",
        "\n",
        "plt.style.use('seaborn-poster')\n",
        "ax = top_studios_gross.groupby('studio')['gross total'].agg('sum').sort_values().plot.barh(color='blue', figsize= (12,10))\n",
        "ax.set_title('TOP STUDIOS IN REVENUE BOTH DOMESTIC AND FOREIGN MARKET')\n",
        "ax.set_xlabel('total profit');"
      ],
      "metadata": {
        "colab": {
          "base_uri": "https://localhost:8080/",
          "height": 940
        },
        "id": "i8ZfgHdbmh_q",
        "outputId": "f185ad62-5c6f-43c9-e145-57aa4fe28f2b"
      },
      "execution_count": 262,
      "outputs": [
        {
          "output_type": "stream",
          "name": "stderr",
          "text": [
            "<ipython-input-262-c59b91ee696b>:3: MatplotlibDeprecationWarning: The seaborn styles shipped by Matplotlib are deprecated since 3.6, as they no longer correspond to the styles shipped by seaborn. However, they will remain available as 'seaborn-v0_8-<style>'. Alternatively, directly use the seaborn API instead.\n",
            "  plt.style.use('seaborn-poster')\n"
          ]
        },
        {
          "output_type": "display_data",
          "data": {
            "text/plain": [
              "<Figure size 1200x1000 with 1 Axes>"
            ],
            "image/png": "[encoded data removed]"
          },
          "metadata": {}
        }
      ]
    },
    {
      "cell_type": "markdown",
      "source": [
        "From the chart we can observe the top five film maker generating the highest revenue from the film industry both locally and foreign market are:\n",
        "\n",
        "      1. Buena Vista studio\n",
        "\n",
        "      2. Fox studio\n",
        "\n",
        "      3. Warner brothers\n",
        "\n",
        "      4. Universal studio\n",
        "\n",
        "      5. Sony\n",
        "\n",
        "This will be our main compitetors as we venture into the film business.\n"
      ],
      "metadata": {
        "id": "C8tf0QiktKFE"
      }
    },
    {
      "cell_type": "markdown",
      "source": [
        "**ii. Idenitify main soure of revenue between the domestic market and foreign market**"
      ],
      "metadata": {
        "id": "xykFtCEeuge7"
      }
    },
    {
      "cell_type": "code",
      "source": [
        "# print the average profit in domestic and foreign market\n",
        "\n",
        "print('Profit in domestic market:', b_clean['domestic_gross'].mean())\n",
        "print('Profit in foreign market:', b_clean['foreign_gross'].mean())"
      ],
      "metadata": {
        "colab": {
          "base_uri": "https://localhost:8080/"
        },
        "id": "f5Z1P8ORooN5",
        "outputId": "de7f0d11-354c-4ee3-f7fe-dded664a69fa"
      },
      "execution_count": 226,
      "outputs": [
        {
          "output_type": "stream",
          "name": "stdout",
          "text": [
            "Profit in domestic market: 47019840.20179372\n",
            "Profit in foreign market: 75790384.84130543\n"
          ]
        }
      ]
    },
    {
      "cell_type": "code",
      "source": [
        "# New dataframe for the average markets\n",
        "\n",
        "markets = ['domestic', 'foreign']\n",
        "average_profits = [47019840.20, 75790384.84]\n",
        "zipped = list(zip(markets, average_profits))\n",
        "df_new = pd.DataFrame(zipped, columns=['markets', 'average_profits'])"
      ],
      "metadata": {
        "id": "HdxFZX-wxXxI"
      },
      "execution_count": 227,
      "outputs": []
    },
    {
      "cell_type": "code",
      "source": [
        "# Visualize the new dataframe\n",
        "\n",
        "plt.figure(figsize=(12,10))\n",
        "ax = sns.barplot(x = markets, y = average_profits, data = df_new, palette = 'Blues')\n",
        "ax.set_title('Comparison between Domestic and Foreign profits')\n",
        "ax.set_ylabel('Profits')\n",
        "ax.set_xlabel('Markets')"
      ],
      "metadata": {
        "colab": {
          "base_uri": "https://localhost:8080/",
          "height": 922
        },
        "id": "H6PNl2Klzz4Z",
        "outputId": "5383e9d1-3a4f-4325-b6ed-71e9f3faedb8"
      },
      "execution_count": 228,
      "outputs": [
        {
          "output_type": "execute_result",
          "data": {
            "text/plain": [
              "Text(0.5, 0, 'Markets')"
            ]
          },
          "metadata": {},
          "execution_count": 228
        },
        {
          "output_type": "display_data",
          "data": {
            "text/plain": [
              "<Figure size 1200x1000 with 1 Axes>"
            ],
            "image/png": "[encoded data removed]"
          },
          "metadata": {}
        }
      ]
    },
    {
      "cell_type": "markdown",
      "source": [
        "By looking at the bar plots we can see that foreign market generates more reneue than local marktet. Hence the new stuio being set up should consideration on what types of movies the international market consumes for more revenue to be generated."
      ],
      "metadata": {
        "id": "l873RwDR1Ebb"
      }
    },
    {
      "cell_type": "markdown",
      "source": [
        "**iii. Identify top twenty highest earning genres in the box office dataset**\n"
      ],
      "metadata": {
        "id": "azEtpBcS4hFQ"
      }
    },
    {
      "cell_type": "markdown",
      "source": [
        "To get highest earning genre of movie, I combine movie_info data set which containing data for (runtime, genre, director and revenu) and box office movie dataset."
      ],
      "metadata": {
        "id": "wJruxsqxBHQ2"
      }
    },
    {
      "cell_type": "code",
      "source": [
        "new_boxoffice = pd.concat([m_info, frame], axis=1)\n",
        "\n",
        "#select genre, box office object and box-office float\n",
        "\n",
        "new_boxoffice = new_boxoffice[['genre', 'box_office', 'box_office']]"
      ],
      "metadata": {
        "id": "DSdJxC4603b_"
      },
      "execution_count": 263,
      "outputs": []
    },
    {
      "cell_type": "code",
      "source": [
        "# select columns box_office and genre as float\n",
        "\n",
        "box_office = new_boxoffice.iloc[:, [0,2]]\n",
        "\n",
        "# grouping dataset by genre or total box office\n",
        "grouped = box_office.groupby('genre')['box_office'].sum().sort_values(ascending = False)"
      ],
      "metadata": {
        "id": "-8VLSD9CDsfy"
      },
      "execution_count": 265,
      "outputs": []
    },
    {
      "cell_type": "code",
      "source": [
        "# Twenty, first rows with highest box_office reveues\n",
        "\n",
        "ax = grouped[0:20].plot.barh(color = 'green', figsize = (12, 10));\n",
        "ax.set_xlabel('Box office Income')\n",
        "ax.set_title( 'Top Twenty Genres with Highest Income')"
      ],
      "metadata": {
        "colab": {
          "base_uri": "https://localhost:8080/",
          "height": 922
        },
        "id": "Bl2quVyMFCbP",
        "outputId": "11dfc84b-2308-41b9-f1b5-3195703a5962"
      },
      "execution_count": 266,
      "outputs": [
        {
          "output_type": "execute_result",
          "data": {
            "text/plain": [
              "Text(0.5, 1.0, 'Top Twenty Genres with Highest Income')"
            ]
          },
          "metadata": {},
          "execution_count": 266
        },
        {
          "output_type": "display_data",
          "data": {
            "text/plain": [
              "<Figure size 1200x1000 with 1 Axes>"
            ],
            "image/png": "[encoded data removed]"
          },
          "metadata": {}
        }
      ]
    },
    {
      "cell_type": "markdown",
      "source": [
        "*observation:*  From the barplot, we can clearly see that that comedy generates the highest amount of revenue. Generally little resources are required to produce comedy and they can easily market themselves by word of mouth if the content is funny.\n",
        "This closely followed by action and adevnture movie due to the curious nature of human beings.\n",
        "Also prodcution of drama film should be consider when coming up with the new studio."
      ],
      "metadata": {
        "id": "Sb-6gQo9G7_Y"
      }
    },
    {
      "cell_type": "markdown",
      "source": [
        "**CONCLUSION**\n",
        "\n",
        "From my analyses I was able to arrive at the following recommedations to the Microsoft Studio Project team."
      ],
      "metadata": {
        "id": "uxKFXn4ZxafM"
      }
    },
    {
      "cell_type": "markdown",
      "source": [
        "**Recommendations**\n",
        "\n",
        "1. Focus more on production of comedy flim. This is because they have a low production cost and there returns are quite high. The next category to focus on is the Action and science fiction film production.\n",
        "\n",
        "2. Marketing of the produced movies should focus both on the local market and foreign market. Since the revenue generated by both markets is high.\n",
        "\n",
        "3. Work on producing better movies than our competitors in both local and foreign market. They are well established and understand the market."
      ],
      "metadata": {
        "id": "M18FZr75yJan"
      }
    },
    {
      "cell_type": "markdown",
      "source": [
        "The Microsoft Movie Studio is a feasible project from my analysis hence it can proceed"
      ],
      "metadata": {
        "id": "xBL_2tXw-LMf"
      }
    },
    {
      "cell_type": "code",
      "source": [],
      "metadata": {
        "id": "4tA8LrTow7Jm"
      },
      "execution_count": null,
      "outputs": []
    }
  ]
}